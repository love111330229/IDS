{
  "nbformat": 4,
  "nbformat_minor": 0,
  "metadata": {
    "colab": {
      "name": "20200410HW.ipynb",
      "provenance": [],
      "authorship_tag": "ABX9TyOVz7DiB+6jMNh+zcsYcsrJ",
      "include_colab_link": true
    },
    "kernelspec": {
      "name": "python3",
      "display_name": "Python 3"
    }
  },
  "cells": [
    {
      "cell_type": "markdown",
      "metadata": {
        "id": "view-in-github",
        "colab_type": "text"
      },
      "source": [
        "<a href=\"https://colab.research.google.com/github/love111330229/IDS/blob/master/20200410HW.ipynb\" target=\"_parent\"><img src=\"https://colab.research.google.com/assets/colab-badge.svg\" alt=\"Open In Colab\"/></a>"
      ]
    },
    {
      "cell_type": "code",
      "metadata": {
        "id": "2tpG1xAOnBBh",
        "colab_type": "code",
        "colab": {}
      },
      "source": [
        "#隨堂練習1：月薪超過 4 萬或存款超過 50 萬就發信用卡\n",
        "\n",
        "#隨堂練習2：判斷奇數偶數\n",
        "\n",
        "#隨堂練習3：依身分證字號尾數決定星期幾可以購買口罩\n",
        "\n",
        "#隨堂練習4：判斷 BMI 的類別標籤\n",
        "\n",
        "#Fizz-Buzz\n",
        "\n"
      ],
      "execution_count": 0,
      "outputs": []
    },
    {
      "cell_type": "code",
      "metadata": {
        "id": "K12nn0bZsI5S",
        "colab_type": "code",
        "colab": {
          "base_uri": "https://localhost:8080/",
          "height": 72
        },
        "outputId": "13189e7f-bf2d-4bd8-a8ee-cf63e9aae358"
      },
      "source": [
        "#隨堂練習1：月薪超過 4 萬或存款超過 50 萬就發信用卡\n",
        "\n",
        "month = int(input(\"月薪(單位:萬):\"))\n",
        "money = int(input(\"存款(單位:萬):\"))\n",
        "if month>4:\n",
        "  print(\"發卡\")\n",
        "elif money>50:\n",
        "  print(\"發卡\")"
      ],
      "execution_count": 9,
      "outputs": [
        {
          "output_type": "stream",
          "text": [
            "月薪(單位:萬):3\n",
            "存款(單位:萬):55\n",
            "發卡\n"
          ],
          "name": "stdout"
        }
      ]
    },
    {
      "cell_type": "code",
      "metadata": {
        "id": "bmxCgVY28N-g",
        "colab_type": "code",
        "colab": {
          "base_uri": "https://localhost:8080/",
          "height": 72
        },
        "outputId": "adbb0f7c-b470-4056-f78a-632e1320e2bd"
      },
      "source": [
        "#隨堂練習1：月薪超過 4 萬或存款超過 50 萬就發信用卡\n",
        "\n",
        "month = int(input(\"月薪(單位:萬):\"))\n",
        "money = int(input(\"存款(單位:萬):\"))\n",
        "if month>4 or money>50:\n",
        "  print(\"發卡\")\n"
      ],
      "execution_count": 10,
      "outputs": [
        {
          "output_type": "stream",
          "text": [
            "月薪(單位:萬):5\n",
            "存款(單位:萬):20\n",
            "發卡\n"
          ],
          "name": "stdout"
        }
      ]
    },
    {
      "cell_type": "code",
      "metadata": {
        "id": "E5hENGyUAwQ-",
        "colab_type": "code",
        "colab": {
          "base_uri": "https://localhost:8080/",
          "height": 54
        },
        "outputId": "48867974-aa9f-4fc1-9578-34c064c43cce"
      },
      "source": [
        "#隨堂練習2：判斷奇數偶數\n",
        "\n",
        "x=int(input(\"輸入一個數字\"))\n",
        "\n",
        "if x%2 == 0:\n",
        "  print(\"偶數\")\n",
        "if x%2 == 1:\n",
        "  print(\"奇數\")"
      ],
      "execution_count": 13,
      "outputs": [
        {
          "output_type": "stream",
          "text": [
            "輸入一個數字6\n",
            "偶數\n"
          ],
          "name": "stdout"
        }
      ]
    },
    {
      "cell_type": "code",
      "metadata": {
        "id": "yeczvDOjDs5e",
        "colab_type": "code",
        "colab": {
          "base_uri": "https://localhost:8080/",
          "height": 54
        },
        "outputId": "f492f085-0a73-4056-8284-aee29183b130"
      },
      "source": [
        "#隨堂練習3：依身分證字號尾數決定星期幾可以購買口罩\n",
        "\n",
        "id=int(input(\"身分證尾數為:\"))\n",
        "\n",
        "if id%2 == 0:\n",
        "  print(\"星期二、四、六、日\")\n",
        "if id%2 == 1:\n",
        "  print(\"星期一、三、五、日\")"
      ],
      "execution_count": 14,
      "outputs": [
        {
          "output_type": "stream",
          "text": [
            "身分證尾數為:8\n",
            "星期二、四、六、日\n"
          ],
          "name": "stdout"
        }
      ]
    },
    {
      "cell_type": "code",
      "metadata": {
        "id": "4LV_9fZCFRhu",
        "colab_type": "code",
        "colab": {
          "base_uri": "https://localhost:8080/",
          "height": 90
        },
        "outputId": "b1242094-76a2-4101-f360-4bbcb6c49b7b"
      },
      "source": [
        "#隨堂練習4：判斷 BMI 的類別標籤\n",
        "\n",
        "cm=int(input(\"身高(cm):\"))\n",
        "kg=int(input(\"體重(kg):\"))\n",
        "bmi=kg/(cm/100)**2\n",
        "print(bmi)\n",
        "if bmi<18.5:\n",
        "  print(\"過輕\")\n",
        "if 18.8<=bmi<24:\n",
        "  print(\"正常\")\n",
        "if bmi>=24:\n",
        "  print(\"過胖\")"
      ],
      "execution_count": 18,
      "outputs": [
        {
          "output_type": "stream",
          "text": [
            "身高(cm):160\n",
            "體重(kg):50\n",
            "19.531249999999996\n",
            "正常\n"
          ],
          "name": "stdout"
        }
      ]
    },
    {
      "cell_type": "code",
      "metadata": {
        "id": "UZE4IbU-IOAo",
        "colab_type": "code",
        "colab": {
          "base_uri": "https://localhost:8080/",
          "height": 54
        },
        "outputId": "0a65f234-3785-4e46-f2bf-eca125373ad1"
      },
      "source": [
        "#Fizz-Buzz\n",
        "\n",
        "Y=int(input(\"輸入一個數字\"))\n",
        "\n",
        "if Y%3 == 0:\n",
        "  print(\"fizz\")\n",
        "if Y%5 == 0:\n",
        "  print(\"Buzz\")\n",
        "\n"
      ],
      "execution_count": 24,
      "outputs": [
        {
          "output_type": "stream",
          "text": [
            "輸入一個數字10\n",
            "Buzz\n"
          ],
          "name": "stdout"
        }
      ]
    }
  ]
}