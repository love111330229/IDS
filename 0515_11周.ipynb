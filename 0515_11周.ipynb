{
  "nbformat": 4,
  "nbformat_minor": 0,
  "metadata": {
    "colab": {
      "name": "0515-11周",
      "provenance": [],
      "collapsed_sections": [],
      "authorship_tag": "ABX9TyNLhfh8UD3lZ/Vm3XZRkXZ3",
      "include_colab_link": true
    },
    "kernelspec": {
      "name": "python3",
      "display_name": "Python 3"
    }
  },
  "cells": [
    {
      "cell_type": "markdown",
      "metadata": {
        "id": "view-in-github",
        "colab_type": "text"
      },
      "source": [
        "<a href=\"https://colab.research.google.com/github/love111330229/IDS/blob/master/0515_11%E5%91%A8.ipynb\" target=\"_parent\"><img src=\"https://colab.research.google.com/assets/colab-badge.svg\" alt=\"Open In Colab\"/></a>"
      ]
    },
    {
      "cell_type": "code",
      "metadata": {
        "id": "6crCZ6y98YMp",
        "colab_type": "code",
        "outputId": "ccbad920-9995-4b2e-cdcf-9abfc651d369",
        "colab": {
          "base_uri": "https://localhost:8080/",
          "height": 70
        }
      },
      "source": [
        "living_area = input(\"請輸入您的居住縣市:\")\n",
        "print(living_area)\n",
        "print(\"{}的每人每月最低生活費為{:,}\".format(living_area, 17005))"
      ],
      "execution_count": 0,
      "outputs": [
        {
          "output_type": "stream",
          "text": [
            "請輸入您的居住縣市:台北市\n",
            "台北市\n",
            "台北市的每人每月最低生活費為17,005\n"
          ],
          "name": "stdout"
        }
      ]
    },
    {
      "cell_type": "code",
      "metadata": {
        "id": "YEGneupdIMEq",
        "colab_type": "code",
        "outputId": "ca6fa115-5840-4880-aa7e-98fb2fd1e790",
        "colab": {
          "base_uri": "https://localhost:8080/",
          "height": 52
        }
      },
      "source": [
        "living_area = input(\"請輸入您的居住縣市:\")\n",
        "\n",
        "if living_area == '臺北市':\n",
        "    living_cost = 17005\n",
        "    print(\"{}的每人每月最低生活費為{:,}\".format(living_area, living_cost))\n",
        "elif living_area == '新北市':\n",
        "    living_cost = 15500\n",
        "    print(\"{}的每人每月最低生活費為{:,}\".format(living_area, living_cost))\n",
        "elif living_area == '桃園市':\n",
        "    living_cost = 15281\n",
        "    print(\"{}的每人每月最低生活費為{:,}\".format(living_area, living_cost))\n",
        "elif living_area == '臺中市':\n",
        "    living_cost = 14596\n",
        "    print(\"{}的每人每月最低生活費為{:,}\".format(living_area, living_cost))\n",
        "elif living_area == '臺南市':\n",
        "    living_cost = 12388\n",
        "    print(\"{}的每人每月最低生活費為{:,}\".format(living_area, living_cost))\n",
        "elif living_area == '高雄市':\n",
        "    living_cost = 13099\n",
        "    print(\"{}的每人每月最低生活費為{:,}\".format(living_area, living_cost))\n",
        "elif living_area == '非六都之縣市':\n",
        "    living_cost = 12388\n",
        "    print(\"{}的每人每月最低生活費為{:,}\".format(living_area, living_cost))\n",
        "elif living_area == '金門縣連江縣':\n",
        "    living_cost = 11648\n",
        "    print(\"{}的每人每月最低生活費為{:,}\".format(living_area, living_cost))\n",
        "else:\n",
        "    print(\"請重新輸入居住縣市\")\n"
      ],
      "execution_count": 0,
      "outputs": [
        {
          "output_type": "stream",
          "text": [
            "請輸入您的居住縣市:新北市\n",
            "新北市的每人每月最低生活費為15,500\n"
          ],
          "name": "stdout"
        }
      ]
    },
    {
      "cell_type": "code",
      "metadata": {
        "id": "TNrYHRARN4CM",
        "colab_type": "code",
        "outputId": "417597c4-fc1e-4aed-f93a-f05dce6db736",
        "colab": {
          "base_uri": "https://localhost:8080/",
          "height": 52
        }
      },
      "source": [
        "living_area = input(\"請輸入您的居住縣市:\")\n",
        "living_cost = None\n",
        "if living_area == '臺北市':\n",
        "    living_cost = 17005\n",
        "elif living_area == '新北市':\n",
        "    living_cost = 15500\n",
        "elif living_area == '桃園市':\n",
        "    living_cost = 15281\n",
        "elif living_area == '臺中市':\n",
        "    living_cost = 14596\n",
        "elif living_area == '臺南市':\n",
        "    living_cost = 12388\n",
        "elif living_area == '高雄市':\n",
        "    living_cost = 13099\n",
        "elif living_area == '非六都之縣市':\n",
        "    living_cost = 12388\n",
        "elif living_area == '金門縣連江縣':\n",
        "    living_cost = 11648\n",
        "\n",
        "if living_cost is None:\n",
        "    print(\"請重新輸入居住縣市\")\n",
        "else:\n",
        "    print(\"{}的每人每月最低生活費為{:,}\".format(living_area, living_cost))"
      ],
      "execution_count": 0,
      "outputs": [
        {
          "output_type": "stream",
          "text": [
            "請輸入您的居住縣市:台北\n",
            "請重新輸入居住縣市\n"
          ],
          "name": "stdout"
        }
      ]
    },
    {
      "cell_type": "code",
      "metadata": {
        "id": "S8dILCfsFtni",
        "colab_type": "code",
        "outputId": "a932865c-04d4-4e18-fc33-49b5e0af1a4f",
        "colab": {
          "base_uri": "https://localhost:8080/",
          "height": 52
        }
      },
      "source": [
        "living_cost_dict = {\n",
        "    \"台北\": 17005,\n",
        "    \"新北\": 15500,\n",
        "    \"桃園\": 15281,\n",
        "    \"台中\": 14596,\n",
        "    \"台南\": 12388,\n",
        "    \"高雄\": 13099,\n",
        "    \"六都外\": 12388,\n",
        "    \"外島\": 11648\n",
        "}\n",
        "living_area = input(\"請輸入您的居住縣市:\")\n",
        "living_cost = living_cost_dict[living_area]\n",
        "print(\"{}的每人每月最低生活費為{:,}\".format(living_area, living_cost))"
      ],
      "execution_count": 0,
      "outputs": [
        {
          "output_type": "stream",
          "text": [
            "請輸入您的居住縣市:台北\n",
            "台北的每人每月最低生活費為17,005\n"
          ],
          "name": "stdout"
        }
      ]
    },
    {
      "cell_type": "code",
      "metadata": {
        "id": "JrQUd8kiRBbB",
        "colab_type": "code",
        "outputId": "4da95025-934a-4518-e5a9-d40a8a30cf0d",
        "colab": {
          "base_uri": "https://localhost:8080/",
          "height": 52
        }
      },
      "source": [
        "living_cost_dict = {\n",
        "    \"台北\": 17005,\n",
        "    \"新北\": 15500,\n",
        "    \"桃園\": 15281,\n",
        "    \"台中\": 14596,\n",
        "    \"台南\": 12388,\n",
        "    \"高雄\": 13099,\n",
        "    \"六都外\": 12388,\n",
        "    \"外島\": 11648\n",
        "}\n",
        "living_area = input(\"請輸入您的居住縣市:\")\n",
        "try:\n",
        " living_cost = living_cost_dict[living_area]\n",
        " print(\"{}的每人每月最低生活費為{:,}\".format(living_area, living_cost))\n",
        "except KeyError:\n",
        " print(\"請重新輸入居住縣市\")"
      ],
      "execution_count": 0,
      "outputs": [
        {
          "output_type": "stream",
          "text": [
            "請輸入您的居住縣市:屏東\n",
            "請重新輸入居住縣市\n"
          ],
          "name": "stdout"
        }
      ]
    },
    {
      "cell_type": "code",
      "metadata": {
        "id": "vNEuHKzEVo3N",
        "colab_type": "code",
        "colab": {
          "base_uri": "https://localhost:8080/",
          "height": 34
        },
        "outputId": "4c6e1285-923f-4d02-ba76-c32a09f78e5e"
      },
      "source": [
        "living_cost_dict = {\n",
        "    \"台北\": 17005,\n",
        "    \"新北\": 15500,\n",
        "    \"桃園\": 15281,\n",
        "    \"台中\": 14596,\n",
        "    \"台南\": 12388,\n",
        "    \"高雄\": 13099,\n",
        "    \"六都外\": 12388,\n",
        "    \"外島\": 11648\n",
        "}\n",
        "#@title Default title text\n",
        "living_area = '\\u6843\\u5712' #@param ['台北', '新北', '桃園', '台中', '台南', '高雄', '六都外', '外島']\n",
        "living_cost = living_cost_dict[living_area]\n",
        "print(\"{}的每人每月最低生活費為{:,}\".format(living_area, living_cost))"
      ],
      "execution_count": 20,
      "outputs": [
        {
          "output_type": "stream",
          "text": [
            "桃園的每人每月最低生活費為15,281\n"
          ],
          "name": "stdout"
        }
      ]
    },
    {
      "cell_type": "code",
      "metadata": {
        "id": "sCaphVfFXQgh",
        "colab_type": "code",
        "colab": {
          "base_uri": "https://localhost:8080/",
          "height": 52
        },
        "outputId": "b4fbb9d9-b98f-41a3-dcc2-9be547383792"
      },
      "source": [
        "primes = {2, 3, 5, 7, 11, 13}\n",
        "odds = {1, 3, 5, 7, 9, 11, 13}\n",
        "print(type(primes))\n",
        "print(type(odds))"
      ],
      "execution_count": 21,
      "outputs": [
        {
          "output_type": "stream",
          "text": [
            "<class 'set'>\n",
            "<class 'set'>\n"
          ],
          "name": "stdout"
        }
      ]
    },
    {
      "cell_type": "code",
      "metadata": {
        "id": "qCl5WQiRX_pq",
        "colab_type": "code",
        "colab": {
          "base_uri": "https://localhost:8080/",
          "height": 34
        },
        "outputId": "d9681a12-1ef5-452d-bd20-6f4d03ee33e9"
      },
      "source": [
        "# 交集\n",
        "primes & odds\n"
      ],
      "execution_count": 23,
      "outputs": [
        {
          "output_type": "execute_result",
          "data": {
            "text/plain": [
              "{3, 5, 7, 11, 13}"
            ]
          },
          "metadata": {
            "tags": []
          },
          "execution_count": 23
        }
      ]
    },
    {
      "cell_type": "code",
      "metadata": {
        "id": "yjioMlT7Yp3A",
        "colab_type": "code",
        "colab": {
          "base_uri": "https://localhost:8080/",
          "height": 34
        },
        "outputId": "1868018e-cef3-4e8a-fbd6-dedfc611e0bf"
      },
      "source": [
        "# .intersection\n",
        "primes.intersection(odds)"
      ],
      "execution_count": 24,
      "outputs": [
        {
          "output_type": "execute_result",
          "data": {
            "text/plain": [
              "{3, 5, 7, 11, 13}"
            ]
          },
          "metadata": {
            "tags": []
          },
          "execution_count": 24
        }
      ]
    },
    {
      "cell_type": "code",
      "metadata": {
        "id": "6Pz1phjoYr-L",
        "colab_type": "code",
        "colab": {
          "base_uri": "https://localhost:8080/",
          "height": 34
        },
        "outputId": "e0b8d89a-93dc-453d-fb5c-c0216a6330b0"
      },
      "source": [
        "# 聯集\n",
        "primes | odds"
      ],
      "execution_count": 25,
      "outputs": [
        {
          "output_type": "execute_result",
          "data": {
            "text/plain": [
              "{1, 2, 3, 5, 7, 9, 11, 13}"
            ]
          },
          "metadata": {
            "tags": []
          },
          "execution_count": 25
        }
      ]
    },
    {
      "cell_type": "code",
      "metadata": {
        "id": "6NF4B0YIYwVk",
        "colab_type": "code",
        "colab": {
          "base_uri": "https://localhost:8080/",
          "height": 34
        },
        "outputId": "57f0690e-4635-4274-a61d-b4ea5ff46371"
      },
      "source": [
        "# .union\n",
        "primes.union(odds)"
      ],
      "execution_count": 26,
      "outputs": [
        {
          "output_type": "execute_result",
          "data": {
            "text/plain": [
              "{1, 2, 3, 5, 7, 9, 11, 13}"
            ]
          },
          "metadata": {
            "tags": []
          },
          "execution_count": 26
        }
      ]
    },
    {
      "cell_type": "code",
      "metadata": {
        "id": "3JvxRDpZY5mT",
        "colab_type": "code",
        "colab": {
          "base_uri": "https://localhost:8080/",
          "height": 52
        },
        "outputId": "c02cf568-70c0-4348-9335-e5eb03b354e9"
      },
      "source": [
        "# 差異\n",
        "print(primes - odds)\n",
        "print(odds - primes)"
      ],
      "execution_count": 28,
      "outputs": [
        {
          "output_type": "stream",
          "text": [
            "{2}\n",
            "{1, 9}\n"
          ],
          "name": "stdout"
        }
      ]
    },
    {
      "cell_type": "code",
      "metadata": {
        "id": "MRT7IpjJZNaU",
        "colab_type": "code",
        "colab": {
          "base_uri": "https://localhost:8080/",
          "height": 52
        },
        "outputId": "b9322ad3-c9ea-40d9-cbcb-b1b4d199f9b5"
      },
      "source": [
        "# .difference\n",
        "print(primes.difference(odds))\n",
        "print(odds.difference(primes))"
      ],
      "execution_count": 29,
      "outputs": [
        {
          "output_type": "stream",
          "text": [
            "{2}\n",
            "{1, 9}\n"
          ],
          "name": "stdout"
        }
      ]
    },
    {
      "cell_type": "code",
      "metadata": {
        "id": "uzdLJPZAZTW5",
        "colab_type": "code",
        "colab": {
          "base_uri": "https://localhost:8080/",
          "height": 34
        },
        "outputId": "e4764ce4-9b4e-42b3-a6b4-15fb74c052b8"
      },
      "source": [
        "(primes - odds) | (odds - primes)"
      ],
      "execution_count": 30,
      "outputs": [
        {
          "output_type": "execute_result",
          "data": {
            "text/plain": [
              "{1, 2, 9}"
            ]
          },
          "metadata": {
            "tags": []
          },
          "execution_count": 30
        }
      ]
    },
    {
      "cell_type": "code",
      "metadata": {
        "id": "SeIfNI0VZvcM",
        "colab_type": "code",
        "colab": {
          "base_uri": "https://localhost:8080/",
          "height": 34
        },
        "outputId": "b9800a2e-d748-4efc-b53d-44b3725c507a"
      },
      "source": [
        "# 對稱差異\n",
        "primes ^ odds"
      ],
      "execution_count": 31,
      "outputs": [
        {
          "output_type": "execute_result",
          "data": {
            "text/plain": [
              "{1, 2, 9}"
            ]
          },
          "metadata": {
            "tags": []
          },
          "execution_count": 31
        }
      ]
    },
    {
      "cell_type": "code",
      "metadata": {
        "id": "vW7rE_3PZxz5",
        "colab_type": "code",
        "colab": {
          "base_uri": "https://localhost:8080/",
          "height": 34
        },
        "outputId": "ffb2b463-959a-45d3-b66c-f8081e68efc9"
      },
      "source": [
        "# .symmetric_difference\n",
        "print(primes.symmetric_difference(odds))"
      ],
      "execution_count": 32,
      "outputs": [
        {
          "output_type": "stream",
          "text": [
            "{1, 2, 9}\n"
          ],
          "name": "stdout"
        }
      ]
    },
    {
      "cell_type": "code",
      "metadata": {
        "id": "QGfUxZz6bLYb",
        "colab_type": "code",
        "colab": {
          "base_uri": "https://localhost:8080/",
          "height": 34
        },
        "outputId": "4f7f73e1-fdf8-4363-d5ab-93f089be5688"
      },
      "source": [
        "primes"
      ],
      "execution_count": 33,
      "outputs": [
        {
          "output_type": "execute_result",
          "data": {
            "text/plain": [
              "{2, 3, 5, 7, 11, 13}"
            ]
          },
          "metadata": {
            "tags": []
          },
          "execution_count": 33
        }
      ]
    },
    {
      "cell_type": "code",
      "metadata": {
        "id": "2HDclwOnbP1O",
        "colab_type": "code",
        "colab": {
          "base_uri": "https://localhost:8080/",
          "height": 194
        },
        "outputId": "c29cc3d5-13ca-48ab-8d59-4f02831b7b44"
      },
      "source": [
        "help(iter)"
      ],
      "execution_count": 34,
      "outputs": [
        {
          "output_type": "stream",
          "text": [
            "Help on built-in function iter in module builtins:\n",
            "\n",
            "iter(...)\n",
            "    iter(iterable) -> iterator\n",
            "    iter(callable, sentinel) -> iterator\n",
            "    \n",
            "    Get an iterator from an object.  In the first form, the argument must\n",
            "    supply its own iterator, or be a sequence.\n",
            "    In the second form, the callable is called until it returns the sentinel.\n",
            "\n"
          ],
          "name": "stdout"
        }
      ]
    },
    {
      "cell_type": "code",
      "metadata": {
        "id": "4__SAkaGbenJ",
        "colab_type": "code",
        "colab": {
          "base_uri": "https://localhost:8080/",
          "height": 34
        },
        "outputId": "78b9acc0-28eb-42ae-eda9-0e204c5da040"
      },
      "source": [
        "I = iter(primes)\n",
        "next(I)"
      ],
      "execution_count": 35,
      "outputs": [
        {
          "output_type": "execute_result",
          "data": {
            "text/plain": [
              "2"
            ]
          },
          "metadata": {
            "tags": []
          },
          "execution_count": 35
        }
      ]
    },
    {
      "cell_type": "code",
      "metadata": {
        "id": "bo33NoszbhCS",
        "colab_type": "code",
        "colab": {
          "base_uri": "https://localhost:8080/",
          "height": 34
        },
        "outputId": "fbee3d17-f4a1-4c9a-dc1e-b7600aaa178f"
      },
      "source": [
        "next(I)"
      ],
      "execution_count": 36,
      "outputs": [
        {
          "output_type": "execute_result",
          "data": {
            "text/plain": [
              "3"
            ]
          },
          "metadata": {
            "tags": []
          },
          "execution_count": 36
        }
      ]
    },
    {
      "cell_type": "code",
      "metadata": {
        "id": "-tWBGgW7biz2",
        "colab_type": "code",
        "colab": {
          "base_uri": "https://localhost:8080/",
          "height": 34
        },
        "outputId": "83d43131-7ab5-4cee-c972-fa8534813a63"
      },
      "source": [
        "next(I)"
      ],
      "execution_count": 37,
      "outputs": [
        {
          "output_type": "execute_result",
          "data": {
            "text/plain": [
              "5"
            ]
          },
          "metadata": {
            "tags": []
          },
          "execution_count": 37
        }
      ]
    },
    {
      "cell_type": "code",
      "metadata": {
        "id": "FRUrKFIKbkCh",
        "colab_type": "code",
        "colab": {
          "base_uri": "https://localhost:8080/",
          "height": 34
        },
        "outputId": "fa988500-c99f-410a-d161-d15b718e06d3"
      },
      "source": [
        "next(I)"
      ],
      "execution_count": 38,
      "outputs": [
        {
          "output_type": "execute_result",
          "data": {
            "text/plain": [
              "7"
            ]
          },
          "metadata": {
            "tags": []
          },
          "execution_count": 38
        }
      ]
    },
    {
      "cell_type": "code",
      "metadata": {
        "id": "hX0GisUeblSR",
        "colab_type": "code",
        "colab": {
          "base_uri": "https://localhost:8080/",
          "height": 34
        },
        "outputId": "2b422aba-2830-442a-885e-ceb0e8e70502"
      },
      "source": [
        "next(I)"
      ],
      "execution_count": 39,
      "outputs": [
        {
          "output_type": "execute_result",
          "data": {
            "text/plain": [
              "11"
            ]
          },
          "metadata": {
            "tags": []
          },
          "execution_count": 39
        }
      ]
    },
    {
      "cell_type": "code",
      "metadata": {
        "id": "XtCaLIuObmv9",
        "colab_type": "code",
        "colab": {
          "base_uri": "https://localhost:8080/",
          "height": 34
        },
        "outputId": "1867ce80-be49-4e39-c1ee-7e8ded0ed124"
      },
      "source": [
        "next(I)"
      ],
      "execution_count": 40,
      "outputs": [
        {
          "output_type": "execute_result",
          "data": {
            "text/plain": [
              "13"
            ]
          },
          "metadata": {
            "tags": []
          },
          "execution_count": 40
        }
      ]
    },
    {
      "cell_type": "code",
      "metadata": {
        "id": "L4Ir-Xf9cWjd",
        "colab_type": "code",
        "colab": {
          "base_uri": "https://localhost:8080/",
          "height": 34
        },
        "outputId": "8cba854d-ea01-49ad-e170-c95b7387f390"
      },
      "source": [
        "import requests\n",
        "\n",
        "today_json = requests.get(\"https://data.nba.net/10s/prod/v1/today.json\").json()\n",
        "print(type(today_json))"
      ],
      "execution_count": 42,
      "outputs": [
        {
          "output_type": "stream",
          "text": [
            "<class 'dict'>\n"
          ],
          "name": "stdout"
        }
      ]
    },
    {
      "cell_type": "code",
      "metadata": {
        "id": "OReePaoNdKKy",
        "colab_type": "code",
        "colab": {
          "base_uri": "https://localhost:8080/",
          "height": 34
        },
        "outputId": "b1cc2ce3-d4a3-4236-c532-4bd941a72209"
      },
      "source": [
        "today_json.keys()"
      ],
      "execution_count": 43,
      "outputs": [
        {
          "output_type": "execute_result",
          "data": {
            "text/plain": [
              "dict_keys(['_internal', 'teamSitesOnly', 'seasonScheduleYear', 'showPlayoffsClinch', 'links'])"
            ]
          },
          "metadata": {
            "tags": []
          },
          "execution_count": 43
        }
      ]
    },
    {
      "cell_type": "code",
      "metadata": {
        "id": "PyloCw3jdMUs",
        "colab_type": "code",
        "colab": {
          "base_uri": "https://localhost:8080/",
          "height": 34
        },
        "outputId": "fbefe1b5-7cbc-44ab-b8d8-fa750540070f"
      },
      "source": [
        "print(type(today_json['links']))"
      ],
      "execution_count": 44,
      "outputs": [
        {
          "output_type": "stream",
          "text": [
            "<class 'dict'>\n"
          ],
          "name": "stdout"
        }
      ]
    },
    {
      "cell_type": "code",
      "metadata": {
        "id": "JeeeY2ArdNnn",
        "colab_type": "code",
        "colab": {
          "base_uri": "https://localhost:8080/",
          "height": 745
        },
        "outputId": "d4c70014-6d5f-4a8f-ea73-83926b6e8960"
      },
      "source": [
        "today_json['links']"
      ],
      "execution_count": 45,
      "outputs": [
        {
          "output_type": "execute_result",
          "data": {
            "text/plain": [
              "{'allstarRoster': '/prod/v1/allstar/2018/AS_roster.json',\n",
              " 'anchorDate': '20200311',\n",
              " 'boxscore': '/prod/v1/{{gameDate}}/{{gameId}}_boxscore.json',\n",
              " 'calendar': '/prod/v1/calendar.json',\n",
              " 'currentDate': '20200311',\n",
              " 'currentScoreboard': '/prod/v1/20200311/scoreboard.json',\n",
              " 'gameBookPdf': '/prod/v1/{{gameDate}}/{{gameId}}_Book.pdf',\n",
              " 'leadTracker': '/prod/v1/{{gameDate}}/{{gameId}}_lead_tracker_{{periodNum}}.json',\n",
              " 'leagueConfStandings': '/prod/v1/current/standings_conference.json',\n",
              " 'leagueDivStandings': '/prod/v1/current/standings_division.json',\n",
              " 'leagueLastFiveGameTeamStats': '/prod/v1/2019/team_stats_last_five_games.json',\n",
              " 'leagueMiniStandings': '/prod/v1/current/standings_all_no_sort_keys.json',\n",
              " 'leagueRosterCoaches': '/prod/v1/2019/coaches.json',\n",
              " 'leagueRosterPlayers': '/prod/v1/2019/players.json',\n",
              " 'leagueSchedule': '/prod/v1/2019/schedule.json',\n",
              " 'leagueTeamStatsLeaders': '/prod/v1/2019/team_stats_rankings.json',\n",
              " 'leagueUngroupedStandings': '/prod/v1/current/standings_all.json',\n",
              " 'miniBoxscore': '/prod/v1/{{gameDate}}/{{gameId}}_mini_boxscore.json',\n",
              " 'pbp': '/prod/v1/{{gameDate}}/{{gameId}}_pbp_{{periodNum}}.json',\n",
              " 'playerGameLog': '/prod/v1/2019/players/{{personId}}_gamelog.json',\n",
              " 'playerProfile': '/prod/v1/2019/players/{{personId}}_profile.json',\n",
              " 'playerUberStats': '/prod/v1/2019/players/{{personId}}_uber_stats.json',\n",
              " 'playoffSeriesLeaders': '/prod/v1/2018/playoffs_{{seriesId}}_leaders.json',\n",
              " 'playoffsBracket': '/prod/v1/2018/playoffsBracket.json',\n",
              " 'previewArticle': '/prod/v1/{{gameDate}}/{{gameId}}_preview_article.json',\n",
              " 'recapArticle': '/prod/v1/{{gameDate}}/{{gameId}}_recap_article.json',\n",
              " 'scoreboard': '/prod/v2/{{gameDate}}/scoreboard.json',\n",
              " 'teamICS': '/prod/teams/schedules/2019/{{teamUrlCode}}_home_schedule.ics',\n",
              " 'teamICS2': '/prod/teams/schedules/2019/{{teamUrlCode}}_schedule.ics',\n",
              " 'teamLeaders': '/prod/v1/2019/teams/{{teamUrlCode}}/leaders.json',\n",
              " 'teamLeaders2': '/prod/v1/2019/teams/{{teamId}}/leaders.json',\n",
              " 'teamRoster': '/prod/v1/2019/teams/{{teamUrlCode}}/roster.json',\n",
              " 'teamSchedule': '/prod/v1/2019/teams/{{teamUrlCode}}/schedule.json',\n",
              " 'teamScheduleYear': '/prod/v1/{{seasonScheduleYear}}/teams/{{teamUrlCode}}/schedule.json',\n",
              " 'teamScheduleYear2': '/prod/v1/{{seasonScheduleYear}}/teams/{{teamId}}/schedule.json',\n",
              " 'teams': '/prod/v2/2019/teams.json',\n",
              " 'teamsConfig': '/prod/2019/teams_config.json',\n",
              " 'teamsConfigYear': '/prod/{{seasonScheduleYear}}/teams_config.json',\n",
              " 'ticketLink': 'https://a.data.nba.com/tickets/single/{{seasonScheduleYear}}/{{gameId}}/{{trackingId}}',\n",
              " 'todayScoreboard': '/prod/v1/20200311/scoreboard.json',\n",
              " 'universalLinkMapping': 'https://www.nba.com/mobile/apps/configs/prod/universalLinkMapping.json'}"
            ]
          },
          "metadata": {
            "tags": []
          },
          "execution_count": 45
        }
      ]
    },
    {
      "cell_type": "code",
      "metadata": {
        "id": "r2etAn3EdPP_",
        "colab_type": "code",
        "colab": {}
      },
      "source": [
        ""
      ],
      "execution_count": 0,
      "outputs": []
    }
  ]
}