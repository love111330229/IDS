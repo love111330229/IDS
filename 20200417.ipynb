{
  "nbformat": 4,
  "nbformat_minor": 0,
  "metadata": {
    "colab": {
      "name": "20200417.ipynb",
      "provenance": [],
      "authorship_tag": "ABX9TyPmJ3MgiOKIGuB98kml27fY",
      "include_colab_link": true
    },
    "kernelspec": {
      "name": "python3",
      "display_name": "Python 3"
    }
  },
  "cells": [
    {
      "cell_type": "markdown",
      "metadata": {
        "id": "view-in-github",
        "colab_type": "text"
      },
      "source": [
        "<a href=\"https://colab.research.google.com/github/love111330229/IDS/blob/master/20200417.ipynb\" target=\"_parent\"><img src=\"https://colab.research.google.com/assets/colab-badge.svg\" alt=\"Open In Colab\"/></a>"
      ]
    },
    {
      "cell_type": "code",
      "metadata": {
        "id": "gN7Q8UeKrqaa",
        "colab_type": "code",
        "colab": {
          "base_uri": "https://localhost:8080/",
          "height": 54
        },
        "outputId": "babcd0fa-cb12-4c52-9889-e8297e68384c"
      },
      "source": [
        "id_a=int(input(\"身分證尾數:\"))\n",
        "a=id_a%2\n",
        "if a==0:\n",
        "  ans=\"偶數，於2、4、6、日購買口罩\"\n",
        "else:\n",
        "  ans=\"奇數，於1、3、5、日購買口罩\"\n",
        "print(\"身分證尾數為\",id,\"是\",ans)"
      ],
      "execution_count": 6,
      "outputs": [
        {
          "output_type": "stream",
          "text": [
            "身分證尾數:0\n",
            "身分證尾數為 0 是 偶數，於2、4、6、日購買口罩\n"
          ],
          "name": "stdout"
        }
      ]
    },
    {
      "cell_type": "code",
      "metadata": {
        "id": "5vNsT_cOx0ON",
        "colab_type": "code",
        "colab": {
          "base_uri": "https://localhost:8080/",
          "height": 72
        },
        "outputId": "839ba88c-2eb7-4240-c770-d4ce4a063228"
      },
      "source": [
        "income=int(input(\"月薪為:\"))\n",
        "money=int(input(\"存款為:\"))\n",
        "if (income>40000 or money >500000):\n",
        "  ans=\"發信用卡\"\n",
        "else:\n",
        "  ans=\"不發信用卡\"\n",
        "print(ans)"
      ],
      "execution_count": 5,
      "outputs": [
        {
          "output_type": "stream",
          "text": [
            "月薪為:49999\n",
            "存款為:499999\n",
            "發信用卡\n"
          ],
          "name": "stdout"
        }
      ]
    },
    {
      "cell_type": "code",
      "metadata": {
        "colab_type": "code",
        "outputId": "a27968f3-3008-4131-fee3-7f2b1ff110b6",
        "id": "vXR2b8W0KedK",
        "colab": {
          "base_uri": "https://localhost:8080/",
          "height": 54
        }
      },
      "source": [
        "id_a=input(\"身分證:\")\n",
        "id_b=int(id_a[-1])\n",
        "a=id_b%2\n",
        "if a==0:\n",
        "  ans=\"偶數，於2、4、6、日購買口罩\"\n",
        "else:\n",
        "  ans=\"奇數，於1、3、5、日購買口罩\"\n",
        "print(\"身分證尾數為\",id_b,\"是\",ans)"
      ],
      "execution_count": 13,
      "outputs": [
        {
          "output_type": "stream",
          "text": [
            "身分證:l119944662\n",
            "身分證尾數為 2 是 偶數，於2、4、6、日購買口罩\n"
          ],
          "name": "stdout"
        }
      ]
    }
  ]
}