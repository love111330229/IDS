{
  "nbformat": 4,
  "nbformat_minor": 0,
  "metadata": {
    "colab": {
      "name": "week13-0529.ipynb",
      "provenance": [],
      "authorship_tag": "ABX9TyOIPZdKn3Kpao02A5qjRs68",
      "include_colab_link": true
    },
    "kernelspec": {
      "name": "python3",
      "display_name": "Python 3"
    }
  },
  "cells": [
    {
      "cell_type": "markdown",
      "metadata": {
        "id": "view-in-github",
        "colab_type": "text"
      },
      "source": [
        "<a href=\"https://colab.research.google.com/github/love111330229/IDS/blob/master/week13_0529.ipynb\" target=\"_parent\"><img src=\"https://colab.research.google.com/assets/colab-badge.svg\" alt=\"Open In Colab\"/></a>"
      ]
    },
    {
      "cell_type": "code",
      "metadata": {
        "id": "Pt-gmEJzIp9c",
        "colab_type": "code",
        "colab": {
          "base_uri": "https://localhost:8080/",
          "height": 51
        },
        "outputId": "ba64efb2-4c3a-4dec-d2a6-0ed61831adbc"
      },
      "source": [
        "from random import sample\n",
        "\n",
        "n_samples = 0\n",
        "while True:\n",
        "  random_integer = sample(range(1,1001),1)[0]\n",
        "  n_samples += 1\n",
        "  if random_integer % 56 == 0:\n",
        "    break\n",
        "print(random_integer)\n",
        "print(n_samples)"
      ],
      "execution_count": 1,
      "outputs": [
        {
          "output_type": "stream",
          "text": [
            "280\n",
            "121\n"
          ],
          "name": "stdout"
        }
      ]
    },
    {
      "cell_type": "code",
      "metadata": {
        "id": "WLecg11RBQyT",
        "colab_type": "code",
        "colab": {
          "base_uri": "https://localhost:8080/",
          "height": 71
        },
        "outputId": "d234e819-9b0e-4740-8c48-5a057e6ea6d6"
      },
      "source": [
        "sample_history=[]\n",
        "while True:\n",
        "  random_integer = sample(range(1, 1001), 1)[0]\n",
        "  sample_history.append(random_integer)\n",
        "  if random_integer % 56 == 0:\n",
        "    break\n",
        "print(sample_history)\n",
        "print(len(sample_history))"
      ],
      "execution_count": 3,
      "outputs": [
        {
          "output_type": "stream",
          "text": [
            "[533, 596, 385, 826, 89, 85, 641, 831, 60, 948, 17, 739, 673, 289, 305, 243, 30, 333, 26, 10, 602, 34, 194, 174, 406, 207, 21, 598, 351, 458, 274, 324, 67, 588, 258, 144, 146, 777, 71, 969, 140, 778, 580, 731, 429, 220, 3, 261, 627, 518, 807, 198, 473, 619, 483, 5, 822, 782, 645, 489, 730, 304, 372, 662, 492, 724, 314, 79, 992, 608, 604, 328, 84, 460, 382, 528, 192, 295, 741, 875, 419, 143, 136, 159, 577, 704, 50, 504]\n",
            "88\n"
          ],
          "name": "stdout"
        }
      ]
    },
    {
      "cell_type": "code",
      "metadata": {
        "id": "pEDYc_gcNNZ-",
        "colab_type": "code",
        "colab": {
          "base_uri": "https://localhost:8080/",
          "height": 34
        },
        "outputId": "85e1fa13-6d54-4314-9eb7-f4e45e44939d"
      },
      "source": [
        "n_vowels = 0 \n",
        "for i in 'hfdhrfiwedwoefijfriurhfadfcafiiefruhfpwefhfrhgrehgerf9aeso[fidsghirreter8uew9fw[0eidw0wow;kfldjg':\n",
        "    if i in ['a', 'e', 'i', 'o', 'u']:\n",
        "        #print(i)\n",
        "        n_vowels += 1\n",
        "print(n_vowels)"
      ],
      "execution_count": 4,
      "outputs": [
        {
          "output_type": "stream",
          "text": [
            "28\n"
          ],
          "name": "stdout"
        }
      ]
    },
    {
      "cell_type": "code",
      "metadata": {
        "id": "4Yt1gltbN5fT",
        "colab_type": "code",
        "colab": {
          "base_uri": "https://localhost:8080/",
          "height": 221
        },
        "outputId": "d5317e43-84ad-44f6-f568-fa66aee24933"
      },
      "source": [
        "test_str = 'azcbobobegghak'\n",
        "n_char = len(test_str)\n",
        "#print(n_char)\n",
        "for i in range(12):\n",
        "    print(test_str[i:i+3])"
      ],
      "execution_count": 5,
      "outputs": [
        {
          "output_type": "stream",
          "text": [
            "azc\n",
            "zcb\n",
            "cbo\n",
            "bob\n",
            "obo\n",
            "bob\n",
            "obe\n",
            "beg\n",
            "egg\n",
            "ggh\n",
            "gha\n",
            "hak\n"
          ],
          "name": "stdout"
        }
      ]
    },
    {
      "cell_type": "code",
      "metadata": {
        "id": "8FASpQrZP2Xk",
        "colab_type": "code",
        "colab": {
          "base_uri": "https://localhost:8080/",
          "height": 34
        },
        "outputId": "83dda9f1-d758-478a-9aa5-e13a12eff0b4"
      },
      "source": [
        "test_str = 'azcbobobegghak'\n",
        "n_char = len(test_str)\n",
        "n_bobs = 0\n",
        "for i in range(n_char - 2):\n",
        "    #print(test_str[i:i+3])\n",
        "    if test_str[i:i+3] == 'bob':\n",
        "        n_bobs += 1\n",
        "print(n_bobs)"
      ],
      "execution_count": 6,
      "outputs": [
        {
          "output_type": "stream",
          "text": [
            "2\n"
          ],
          "name": "stdout"
        }
      ]
    },
    {
      "cell_type": "code",
      "metadata": {
        "id": "dGvhgaioQ5uV",
        "colab_type": "code",
        "colab": {}
      },
      "source": [
        "sample_n=[]\n",
        "n=range(1,101)\n"
      ],
      "execution_count": 0,
      "outputs": []
    },
    {
      "cell_type": "code",
      "metadata": {
        "id": "T_60ClwlVDQN",
        "colab_type": "code",
        "colab": {}
      },
      "source": [
        "x = list(range(1, 101))\n",
        "N = len(x)\n",
        "x_bar = sum(x) / N\n",
        "sse = 0\n",
        "for xi in x:\n",
        "    #error = xi - x_bar\n",
        "    squared_error = (xi - x_bar)**2\n",
        "    sse += squared_error #sse = sse + squared_error\n",
        "sample_mse = sse / (N-1)"
      ],
      "execution_count": 0,
      "outputs": []
    },
    {
      "cell_type": "code",
      "metadata": {
        "id": "wJKo79gnVLDL",
        "colab_type": "code",
        "colab": {
          "base_uri": "https://localhost:8080/",
          "height": 34
        },
        "outputId": "8a812ca9-eb9d-41ee-ef6e-1d2fcfb12d85"
      },
      "source": [
        "from statistics import stdev\n",
        "\n",
        "stdev(range(1, 101)) # [1, 2, 3, ..., 100]"
      ],
      "execution_count": 11,
      "outputs": [
        {
          "output_type": "execute_result",
          "data": {
            "text/plain": [
              "29.011491975882016"
            ]
          },
          "metadata": {
            "tags": []
          },
          "execution_count": 11
        }
      ]
    },
    {
      "cell_type": "code",
      "metadata": {
        "id": "HiJyu69udgcB",
        "colab_type": "code",
        "colab": {
          "base_uri": "https://localhost:8080/",
          "height": 51
        },
        "outputId": "c57e02e8-a921-4a56-be9a-79e0f0b03f20"
      },
      "source": [
        "print(abs(-222))\n",
        "print(abs(222))\n",
        "#絕對值\n"
      ],
      "execution_count": 13,
      "outputs": [
        {
          "output_type": "stream",
          "text": [
            "222\n",
            "222\n"
          ],
          "name": "stdout"
        }
      ]
    },
    {
      "cell_type": "code",
      "metadata": {
        "id": "HZ2jYolyejx4",
        "colab_type": "code",
        "colab": {
          "base_uri": "https://localhost:8080/",
          "height": 51
        },
        "outputId": "ee0a849b-40a4-4e21-c976-affa532a6a5d"
      },
      "source": [
        "def absolute(x):\n",
        "    \"\"\"\n",
        "    Returns the absolute value of x.\n",
        "    \"\"\"\n",
        "    if x < 0:\n",
        "        return -x\n",
        "    else:\n",
        "        return x\n",
        "\n",
        "print(absolute(-222))\n",
        "print(absolute(222))"
      ],
      "execution_count": 15,
      "outputs": [
        {
          "output_type": "stream",
          "text": [
            "222\n",
            "222\n"
          ],
          "name": "stdout"
        }
      ]
    },
    {
      "cell_type": "code",
      "metadata": {
        "id": "s8tM5sp3hilo",
        "colab_type": "code",
        "colab": {
          "base_uri": "https://localhost:8080/",
          "height": 34
        },
        "outputId": "2589b219-1304-488e-8dd6-663c46e80a82"
      },
      "source": [
        "def get_fahrenheit(x):\n",
        "    \"\"\"\n",
        "    Transform a Celsius degree into  Farenheit scale\n",
        "    \"\"\"\n",
        "    fah = x * 9/5 + 32\n",
        "    return fah\n",
        "\n",
        "get_fahrenheit(100)"
      ],
      "execution_count": 19,
      "outputs": [
        {
          "output_type": "execute_result",
          "data": {
            "text/plain": [
              "212.0"
            ]
          },
          "metadata": {
            "tags": []
          },
          "execution_count": 19
        }
      ]
    },
    {
      "cell_type": "code",
      "metadata": {
        "id": "ad7L9K7bjBZ3",
        "colab_type": "code",
        "colab": {
          "base_uri": "https://localhost:8080/",
          "height": 34
        },
        "outputId": "05ef218a-9913-4974-8f26-a2d36cc3fa98"
      },
      "source": [
        "def get_bmi(height, weight):\n",
        "    \"\"\"\n",
        "    Calculate BMI based on height and weight\n",
        "    \"\"\"\n",
        "    height = height / 100\n",
        "    bmi = weight / height**2\n",
        "    return bmi\n",
        "\n",
        "get_bmi(160, 50)"
      ],
      "execution_count": 21,
      "outputs": [
        {
          "output_type": "execute_result",
          "data": {
            "text/plain": [
              "19.531249999999996"
            ]
          },
          "metadata": {
            "tags": []
          },
          "execution_count": 21
        }
      ]
    },
    {
      "cell_type": "code",
      "metadata": {
        "id": "dGaOE_0CkHjY",
        "colab_type": "code",
        "colab": {}
      },
      "source": [
        "def is_prime(x)\n"
      ],
      "execution_count": 0,
      "outputs": []
    },
    {
      "cell_type": "code",
      "metadata": {
        "id": "NbZPEalWl2Qg",
        "colab_type": "code",
        "colab": {}
      },
      "source": [
        "def is_prime(x):\n",
        "    \"\"\"\n",
        "    Returns True if x is a prime, or returns False\n",
        "    \"\"\"\n",
        "    divisors = []\n",
        "    for i in range(1, x+1):\n",
        "        if x % i == 0:\n",
        "            divisors.append(i)\n",
        "    n_divisors = len(divisors)\n",
        "    return n_divisors == 2"
      ],
      "execution_count": 0,
      "outputs": []
    },
    {
      "cell_type": "code",
      "metadata": {
        "id": "777fh8Zgl6RW",
        "colab_type": "code",
        "colab": {
          "base_uri": "https://localhost:8080/",
          "height": 34
        },
        "outputId": "0c97131e-542c-45e7-a227-9048e8072e20"
      },
      "source": [
        "is_prime(8)"
      ],
      "execution_count": 23,
      "outputs": [
        {
          "output_type": "execute_result",
          "data": {
            "text/plain": [
              "False"
            ]
          },
          "metadata": {
            "tags": []
          },
          "execution_count": 23
        }
      ]
    },
    {
      "cell_type": "code",
      "metadata": {
        "id": "m93dFzodl9YP",
        "colab_type": "code",
        "colab": {
          "base_uri": "https://localhost:8080/",
          "height": 34
        },
        "outputId": "a7372bad-3a41-4726-8463-7e55825fa67b"
      },
      "source": [
        "is_prime(2)"
      ],
      "execution_count": 24,
      "outputs": [
        {
          "output_type": "execute_result",
          "data": {
            "text/plain": [
              "True"
            ]
          },
          "metadata": {
            "tags": []
          },
          "execution_count": 24
        }
      ]
    }
  ]
}