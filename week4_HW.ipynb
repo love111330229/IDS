{
  "nbformat": 4,
  "nbformat_minor": 0,
  "metadata": {
    "colab": {
      "name": "week4 HW.ipynb",
      "provenance": [],
      "authorship_tag": "ABX9TyNyVpWdKU0bSxvGJMtZO8E2",
      "include_colab_link": true
    },
    "kernelspec": {
      "name": "python3",
      "display_name": "Python 3"
    }
  },
  "cells": [
    {
      "cell_type": "markdown",
      "metadata": {
        "id": "view-in-github",
        "colab_type": "text"
      },
      "source": [
        "<a href=\"https://colab.research.google.com/github/love111330229/IDS/blob/master/week4_HW.ipynb\" target=\"_parent\"><img src=\"https://colab.research.google.com/assets/colab-badge.svg\" alt=\"Open In Colab\"/></a>"
      ]
    },
    {
      "cell_type": "code",
      "metadata": {
        "id": "6cdi6vSlp-u8",
        "colab_type": "code",
        "colab": {}
      },
      "source": [
        "#作業:\n",
        "\n",
        "#(1)P2-27/28 溫度轉換\n",
        "\n",
        "#(2)P 2-29 計算俠客歐尼爾巔峰時期的 BMI 身體質量指數\n",
        "\n",
        "#(3)P2-42 ：What did Ross say?\n",
        "\n",
        "#(4)P2-50 讓使用者輸入城市名稱與天氣，並印出「我在OOO，天氣OOO」\n",
        "\n",
        "#(5)P2-68 球員 BMI 與過重判斷"
      ],
      "execution_count": 0,
      "outputs": []
    },
    {
      "cell_type": "code",
      "metadata": {
        "id": "DbFddYLcrgvR",
        "colab_type": "code",
        "colab": {
          "base_uri": "https://localhost:8080/",
          "height": 51
        },
        "outputId": "f7bd790a-33b2-4efa-ba22-dfebfcf290b7"
      },
      "source": [
        "#(1)P2-27/28 溫度轉換\n",
        "\n",
        "temperature_c=int(input(\"輸入攝氏溫度\"))\n",
        "temperature_f=temperature_c *9/5+32\n",
        "print(temperature_f)"
      ],
      "execution_count": 9,
      "outputs": [
        {
          "output_type": "stream",
          "text": [
            "輸入攝氏溫度25\n",
            "77.0\n"
          ],
          "name": "stdout"
        }
      ]
    },
    {
      "cell_type": "code",
      "metadata": {
        "id": "NoQQwLbGvqqB",
        "colab_type": "code",
        "colab": {
          "base_uri": "https://localhost:8080/",
          "height": 68
        },
        "outputId": "88d04bcf-629d-4de1-b74a-20443ca8b4fe"
      },
      "source": [
        "#(2)P 2-29 計算俠客歐尼爾巔峰時期的 BMI 身體質量指數\n",
        "\n",
        "cm=int(input(\"身高(公分):\"))\n",
        "kg=int(input(\"體重(公斤):\"))\n",
        "BMI=kg/(cm/100)**2\n",
        "print(BMI)"
      ],
      "execution_count": 14,
      "outputs": [
        {
          "output_type": "stream",
          "text": [
            "身高(公分):216\n",
            "體重(公斤):147\n",
            "31.507201646090532\n"
          ],
          "name": "stdout"
        }
      ]
    },
    {
      "cell_type": "code",
      "metadata": {
        "id": "tygnX1WLxrn_",
        "colab_type": "code",
        "colab": {
          "base_uri": "https://localhost:8080/",
          "height": 34
        },
        "outputId": "fc8c93bb-eb7a-4443-9a31-c1e540194bd3"
      },
      "source": [
        "#(3)P2-42 ：What did Ross say?\n",
        "\n",
        "ross_said=(\"\"\"Let's put aside the fact that you \"accidentally\" pick up my grandmother's ring.\"\"\")\n",
        "print(ross_said)\n"
      ],
      "execution_count": 17,
      "outputs": [
        {
          "output_type": "stream",
          "text": [
            "Let's put aside the fact that you \"accidentally\" pick up my grandmother's ring.\n"
          ],
          "name": "stdout"
        }
      ]
    },
    {
      "cell_type": "code",
      "metadata": {
        "id": "Z0GotYZv0W3u",
        "colab_type": "code",
        "colab": {
          "base_uri": "https://localhost:8080/",
          "height": 51
        },
        "outputId": "86537302-b758-487c-b62b-4dcef87837bd"
      },
      "source": [
        "#(4)P2-50 讓使用者輸入城市名稱與天氣，並印出「我在OOO，天氣OOO」\n",
        "\n",
        "city=input(\"城市:\")\n",
        "sky=input(\"天氣:\")"
      ],
      "execution_count": 19,
      "outputs": [
        {
          "output_type": "stream",
          "text": [
            "城市:台北\n",
            "天氣:晴\n"
          ],
          "name": "stdout"
        }
      ]
    },
    {
      "cell_type": "code",
      "metadata": {
        "id": "I87CR1K61pyW",
        "colab_type": "code",
        "colab": {
          "base_uri": "https://localhost:8080/",
          "height": 102
        },
        "outputId": "80edec03-7f75-4e9c-fdbd-9ea84116c7a9"
      },
      "source": [
        "#(5)P2-68 球員 BMI 與過重判斷\n",
        "name=input(\"請輸入名字\")\n",
        "cm=int(input(\"身高(公分):\"))\n",
        "kg=int(input(\"體重(公斤):\"))\n",
        "BMI=kg/(cm/100)**2\n",
        "\n",
        "print(\"{}BMI為:{:.2f}\".format(name,BMI))\n",
        "print(\"{}是否過重:{}\".format(name,BMI>30))\n"
      ],
      "execution_count": 25,
      "outputs": [
        {
          "output_type": "stream",
          "text": [
            "請輸入名字a\n",
            "身高(公分):216\n",
            "體重(公斤):147\n",
            "aBMI為:31.51\n",
            "a是否過重:True\n"
          ],
          "name": "stdout"
        }
      ]
    },
    {
      "cell_type": "code",
      "metadata": {
        "id": "LQEHOKZ57gYt",
        "colab_type": "code",
        "colab": {
          "base_uri": "https://localhost:8080/",
          "height": 102
        },
        "outputId": "72afa575-798d-4d43-a12a-31e5df48eb90"
      },
      "source": [
        "#(5)P2-68 球員 BMI 與過重判斷\n",
        "name=input(\"請輸入名字\")\n",
        "cm=int(input(\"身高(公分):\"))\n",
        "kg=int(input(\"體重(公斤):\"))\n",
        "BMI=kg/(cm/100)**2\n",
        "\n",
        "print(\"BMI為:{:.2f}\".format(BMI))\n",
        "print(\"是否過重:{}\".format(BMI>30))"
      ],
      "execution_count": 26,
      "outputs": [
        {
          "output_type": "stream",
          "text": [
            "請輸入名字a\n",
            "身高(公分):216\n",
            "體重(公斤):147\n",
            "BMI為:31.51\n",
            "是否過重:True\n"
          ],
          "name": "stdout"
        }
      ]
    },
    {
      "cell_type": "code",
      "metadata": {
        "id": "92He9cng72vR",
        "colab_type": "code",
        "colab": {
          "base_uri": "https://localhost:8080/",
          "height": 119
        },
        "outputId": "ccf2f368-2559-4afb-cea5-f3cb745c1c01"
      },
      "source": [
        "#(5)P2-68 球員 BMI 與過重判斷\n",
        "name=input(\"請輸入名字\")\n",
        "cm=int(input(\"身高(公分):\"))\n",
        "kg=int(input(\"體重(公斤):\"))\n",
        "BMI=kg/(cm/100)**2\n",
        "\n",
        "BMI>=30\n",
        "\n",
        "print(\"BMI為:\",BMI)\n",
        "print(\"是否過重:\",BMI>30)"
      ],
      "execution_count": 27,
      "outputs": [
        {
          "output_type": "stream",
          "text": [
            "ERROR! Session/line number was not unique in database. History logging moved to new session 67\n",
            "請輸入名字A\n",
            "身高(公分):216\n",
            "體重(公斤):147\n",
            "BMI為: 31.507201646090532\n",
            "是否過重: True\n"
          ],
          "name": "stdout"
        }
      ]
    },
    {
      "cell_type": "code",
      "metadata": {
        "id": "1dlUydy_-syM",
        "colab_type": "code",
        "colab": {
          "base_uri": "https://localhost:8080/",
          "height": 102
        },
        "outputId": "b377ace2-c43f-49e5-e9f0-c30d85773295"
      },
      "source": [
        "#(5)P2-68 球員 BMI 與過重判斷\n",
        "name=input(\"請輸入名字\")\n",
        "cm=int(input(\"身高(公分):\"))\n",
        "kg=int(input(\"體重(公斤):\"))\n",
        "BMI=round(kg/(cm/100)**2,2)\n",
        "BMI>=30\n",
        "\n",
        "print(\"BMI為:\",BMI)\n",
        "print(\"是否過重:\",BMI>30)"
      ],
      "execution_count": 29,
      "outputs": [
        {
          "output_type": "stream",
          "text": [
            "請輸入名字a\n",
            "身高(公分):216\n",
            "體重(公斤):147\n",
            "BMI為: 31.51\n",
            "是否過重: True\n"
          ],
          "name": "stdout"
        }
      ]
    }
  ]
}