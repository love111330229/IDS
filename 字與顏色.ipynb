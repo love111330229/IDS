{
  "nbformat": 4,
  "nbformat_minor": 0,
  "metadata": {
    "colab": {
      "name": "字與顏色.ipynb",
      "provenance": [],
      "authorship_tag": "ABX9TyMKYyx/oJD5tikzPLF6AFnC",
      "include_colab_link": true
    },
    "kernelspec": {
      "name": "python3",
      "display_name": "Python 3"
    }
  },
  "cells": [
    {
      "cell_type": "markdown",
      "metadata": {
        "id": "view-in-github",
        "colab_type": "text"
      },
      "source": [
        "<a href=\"https://colab.research.google.com/github/love111330229/IDS/blob/master/%E5%AD%97%E8%88%87%E9%A1%8F%E8%89%B2.ipynb\" target=\"_parent\"><img src=\"https://colab.research.google.com/assets/colab-badge.svg\" alt=\"Open In Colab\"/></a>"
      ]
    },
    {
      "cell_type": "code",
      "metadata": {
        "id": "AhDJTB8gDv5p",
        "colab_type": "code",
        "colab": {}
      },
      "source": [
        "#保留字:\n",
        "False      await      else       import     pass\n",
        "None       break      except     in         raise\n",
        "True       class      finally    is         return\n",
        "and        continue   for        lambda     try\n",
        "as         def        from       nonlocal   while\n",
        "assert     del        global     not        with\n",
        "async      elif       if         or         yield"
      ],
      "execution_count": 0,
      "outputs": []
    },
    {
      "cell_type": "code",
      "metadata": {
        "id": "QBaWlCBhFPf1",
        "colab_type": "code",
        "colab": {}
      },
      "source": [
        "#內建函數:\n",
        "abs()   delattr()   hash()  memoryview()    set()\n",
        "all()   dict()  help()  min()   setattr()\n",
        "any()   dir()   hex()   next()  slice()\n",
        "ascii() divmod()    id()    object()    sorted()\n",
        "bin()   enumerate() input() oct()   staticmethod()\n",
        "bool()  eval()  int()   open()  str()\n",
        "breakpoint()    exec()  isinstance()    ord()   sum()\n",
        "bytearray() filter()    issubclass()    pow()   super()\n",
        "bytes() float() iter()  print() tuple()\n",
        "callable()  format()    len()   property()  type()\n",
        "chr()   frozenset() list()  range() vars()\n",
        "classmethod()   getattr()   locals()    repr()  zip()\n",
        "compile()   globals()   map()   reversed()  __import__()\n",
        "complex()   hasattr()   max()   round()"
      ],
      "execution_count": 0,
      "outputs": []
    },
    {
      "cell_type": "code",
      "metadata": {
        "id": "B1dieyiTFm9B",
        "colab_type": "code",
        "colab": {}
      },
      "source": [
        "#運算符號:\n",
        "+ 、 - 、 * 、 / ：加減乘除\n",
        "** ：次方\n",
        "% ：餘數\n",
        "// ：商數\n"
      ],
      "execution_count": 0,
      "outputs": []
    },
    {
      "cell_type": "code",
      "metadata": {
        "id": "OYeb0BiRF9CK",
        "colab_type": "code",
        "colab": {}
      },
      "source": [
        "#數字:\n",
        "1 2 3 4 5 6 7 8 9 0"
      ],
      "execution_count": 0,
      "outputs": []
    },
    {
      "cell_type": "code",
      "metadata": {
        "id": "bbuHFrPQFQm5",
        "colab_type": "code",
        "colab": {}
      },
      "source": [
        "#文字:\n",
        "\"名字:\""
      ],
      "execution_count": 0,
      "outputs": []
    }
  ]
}