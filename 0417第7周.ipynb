{
  "nbformat": 4,
  "nbformat_minor": 0,
  "metadata": {
    "colab": {
      "name": "0417第7周.ipynb",
      "provenance": [],
      "authorship_tag": "ABX9TyMSW9De1WyBHiGzXvIspSaG",
      "include_colab_link": true
    },
    "kernelspec": {
      "name": "python3",
      "display_name": "Python 3"
    }
  },
  "cells": [
    {
      "cell_type": "markdown",
      "metadata": {
        "id": "view-in-github",
        "colab_type": "text"
      },
      "source": [
        "<a href=\"https://colab.research.google.com/github/love111330229/IDS/blob/master/0417%E7%AC%AC7%E5%91%A8.ipynb\" target=\"_parent\"><img src=\"https://colab.research.google.com/assets/colab-badge.svg\" alt=\"Open In Colab\"/></a>"
      ]
    },
    {
      "cell_type": "code",
      "metadata": {
        "id": "VZHhsdJt4vNv",
        "colab_type": "code",
        "colab": {
          "base_uri": "https://localhost:8080/",
          "height": 51
        },
        "outputId": "4232873b-e5c4-483e-f0dd-66eadbd2efea"
      },
      "source": [
        "last_id_digit = input('請輸入身分證字號的尾數:')\n",
        "last_id_digit = int(last_id_digit)\n",
        "remainder = last_id_digit % 2\n",
        "\n",
        "if remainder == 0:\n",
        "    ans = \"偶數\"\n",
        "else:\n",
        "    ans = \"奇數\"\n",
        "\n",
        "print(\"身分證字號尾數除以2的餘數為:{}，因此為{}\".format(remainder, ans))"
      ],
      "execution_count": 1,
      "outputs": [
        {
          "output_type": "stream",
          "text": [
            "請輸入身分證字號的尾數:8\n",
            "身分證字號尾數除以2的餘數為:0，因此為偶數\n"
          ],
          "name": "stdout"
        }
      ]
    },
    {
      "cell_type": "code",
      "metadata": {
        "id": "TiixUF1M6DA7",
        "colab_type": "code",
        "colab": {
          "base_uri": "https://localhost:8080/",
          "height": 459
        },
        "outputId": "d461b886-75d6-4631-e90a-81fd6239bb21"
      },
      "source": [
        "i = 65\n",
        "while i <= 90:\n",
        "    print(\"Character: {}, Order: {}, Binary: {}\".format(chr(i), i, bin(i)))\n",
        "    i += 1\n",
        "  "
      ],
      "execution_count": 2,
      "outputs": [
        {
          "output_type": "stream",
          "text": [
            "Character: A, Order: 65, Binary: 0b1000001\n",
            "Character: B, Order: 66, Binary: 0b1000010\n",
            "Character: C, Order: 67, Binary: 0b1000011\n",
            "Character: D, Order: 68, Binary: 0b1000100\n",
            "Character: E, Order: 69, Binary: 0b1000101\n",
            "Character: F, Order: 70, Binary: 0b1000110\n",
            "Character: G, Order: 71, Binary: 0b1000111\n",
            "Character: H, Order: 72, Binary: 0b1001000\n",
            "Character: I, Order: 73, Binary: 0b1001001\n",
            "Character: J, Order: 74, Binary: 0b1001010\n",
            "Character: K, Order: 75, Binary: 0b1001011\n",
            "Character: L, Order: 76, Binary: 0b1001100\n",
            "Character: M, Order: 77, Binary: 0b1001101\n",
            "Character: N, Order: 78, Binary: 0b1001110\n",
            "Character: O, Order: 79, Binary: 0b1001111\n",
            "Character: P, Order: 80, Binary: 0b1010000\n",
            "Character: Q, Order: 81, Binary: 0b1010001\n",
            "Character: R, Order: 82, Binary: 0b1010010\n",
            "Character: S, Order: 83, Binary: 0b1010011\n",
            "Character: T, Order: 84, Binary: 0b1010100\n",
            "Character: U, Order: 85, Binary: 0b1010101\n",
            "Character: V, Order: 86, Binary: 0b1010110\n",
            "Character: W, Order: 87, Binary: 0b1010111\n",
            "Character: X, Order: 88, Binary: 0b1011000\n",
            "Character: Y, Order: 89, Binary: 0b1011001\n",
            "Character: Z, Order: 90, Binary: 0b1011010\n"
          ],
          "name": "stdout"
        }
      ]
    },
    {
      "cell_type": "code",
      "metadata": {
        "id": "KlWlLtOa6Q55",
        "colab_type": "code",
        "colab": {
          "base_uri": "https://localhost:8080/",
          "height": 34
        },
        "outputId": "da76a103-c594-47aa-bacb-0769c232637a"
      },
      "source": [
        "member_ages = [18, 20, 22, 25, 35, 42, 65]\n",
        "\n",
        "list(filter(lambda x: x <= 25 and x >= 18, member_ages))"
      ],
      "execution_count": 3,
      "outputs": [
        {
          "output_type": "execute_result",
          "data": {
            "text/plain": [
              "[18, 20, 22, 25]"
            ]
          },
          "metadata": {
            "tags": []
          },
          "execution_count": 3
        }
      ]
    },
    {
      "cell_type": "code",
      "metadata": {
        "id": "2D28Ilrf6-pZ",
        "colab_type": "code",
        "colab": {
          "base_uri": "https://localhost:8080/",
          "height": 68
        },
        "outputId": "28eac9fe-14e0-488c-c640-39d89724ab96"
      },
      "source": [
        "movie_title = input('請輸入電影的名稱:')\n",
        "movie_rating = input('請輸入電影的評等:')\n",
        "movie_rating = float(movie_rating)\n",
        "\n",
        "if movie_rating > 7:\n",
        "    print(\"{}的評分為 {} 分值得去看！\".format(movie_title, movie_rating))\n",
        "if movie_rating <= 7:\n",
        "    print(\"{}的評分為 {} 分不值得去看，浪費時間！\".format(movie_title, movie_rating))"
      ],
      "execution_count": 5,
      "outputs": [
        {
          "output_type": "stream",
          "text": [
            "請輸入電影的名稱:巨齒鯊\n",
            "請輸入電影的評等:5.5\n",
            "巨齒鯊的評分為 5.5 分不值得去看，浪費時間！\n"
          ],
          "name": "stdout"
        }
      ]
    },
    {
      "cell_type": "code",
      "metadata": {
        "id": "YnXOLggx7n4a",
        "colab_type": "code",
        "colab": {
          "base_uri": "https://localhost:8080/",
          "height": 102
        },
        "outputId": "a039c2d7-481c-4a78-ab78-f82bbd66aa54"
      },
      "source": [
        "monthly_income = input(\"請輸入月薪：\")\n",
        "saving_account = input(\"請輸入存款：\")\n",
        "monthly_income = int(monthly_income)\n",
        "saving_account = int(saving_account)\n",
        "print(type(monthly_income))\n",
        "print(type(saving_account))\n",
        "if monthly_income > 40000:\n",
        "    ans = \"發信用卡\"\n",
        "if saving_account > 500000:\n",
        "    ans = \"發信用卡\"\n",
        "print(ans)"
      ],
      "execution_count": 6,
      "outputs": [
        {
          "output_type": "stream",
          "text": [
            "請輸入月薪：40000\n",
            "請輸入存款：500001\n",
            "<class 'int'>\n",
            "<class 'int'>\n",
            "發信用卡\n"
          ],
          "name": "stdout"
        }
      ]
    },
    {
      "cell_type": "code",
      "metadata": {
        "id": "oq6xtOUB72lJ",
        "colab_type": "code",
        "colab": {
          "base_uri": "https://localhost:8080/",
          "height": 51
        },
        "outputId": "c27c0947-fac7-4498-bfbf-1e46be5a108f"
      },
      "source": [
        "#判斷奇數偶數\n",
        "user=int(input('請輸入一個正整數:'))\n",
        "if user%2 ==0:\n",
        "  print(user,'是個偶數')\n",
        "else :\n",
        "  print(user,'是個奇數')"
      ],
      "execution_count": 7,
      "outputs": [
        {
          "output_type": "stream",
          "text": [
            "請輸入一個正整數:25\n",
            "25 是個奇數\n"
          ],
          "name": "stdout"
        }
      ]
    },
    {
      "cell_type": "code",
      "metadata": {
        "id": "b5DJNjRp76z4",
        "colab_type": "code",
        "colab": {
          "base_uri": "https://localhost:8080/",
          "height": 51
        },
        "outputId": "ff5a42e3-7c05-4960-eeb3-51389ca3c726"
      },
      "source": [
        "#依身分證字號尾數決定星期幾可以購買口罩\n",
        "id=int(input('請輸入您身分證字號的尾數：'))\n",
        "if id%2 ==0:\n",
        "  print('星期二四六日領')\n",
        "else :\n",
        "  print('星期一三五日領')\n"
      ],
      "execution_count": 8,
      "outputs": [
        {
          "output_type": "stream",
          "text": [
            "請輸入您身分證字號的尾數：8\n",
            "星期二四六日領\n"
          ],
          "name": "stdout"
        }
      ]
    },
    {
      "cell_type": "code",
      "metadata": {
        "id": "vPS8nfXt8RrY",
        "colab_type": "code",
        "colab": {
          "base_uri": "https://localhost:8080/",
          "height": 51
        },
        "outputId": "9f90f9d9-2ca0-4495-ae2c-11dd9882375c"
      },
      "source": [
        "id_number = input(\"請輸入身分證字號：\")\n",
        "id_last_digit = id_number[-1]\n",
        "id_last_digit = int(id_last_digit)\n",
        "if id_last_digit % 2 == 0:\n",
        "    ans = \"星期二四六日領\"\n",
        "else:\n",
        "    ans = \"星期一三五日領\"\n",
        "print(ans)"
      ],
      "execution_count": 9,
      "outputs": [
        {
          "output_type": "stream",
          "text": [
            "請輸入身分證字號：A113622846\n",
            "星期二四六日領\n"
          ],
          "name": "stdout"
        }
      ]
    },
    {
      "cell_type": "code",
      "metadata": {
        "id": "getHz5Bv8beR",
        "colab_type": "code",
        "colab": {
          "base_uri": "https://localhost:8080/",
          "height": 68
        },
        "outputId": "9251ffcc-1fb3-44b7-fc95-041d4ab6cea9"
      },
      "source": [
        "movie_title = input(\"請輸入電影名稱：\")\n",
        "movie_rating = input(\"請輸入電影評分：\")\n",
        "movie_rating = float(movie_rating)\n",
        "\n",
        "if movie_rating > 7:\n",
        "    print(\"去電影院看{}\".format(movie_title))\n",
        "if movie_rating > 6:\n",
        "    print(\"在家裡看{}\".format(movie_title))\n",
        "if movie_rating <= 6:\n",
        "    print(\"不要看{}\".format(movie_title))"
      ],
      "execution_count": 10,
      "outputs": [
        {
          "output_type": "stream",
          "text": [
            "請輸入電影名稱：巨齒鯊\n",
            "請輸入電影評分：5.5\n",
            "不要看巨齒鯊\n"
          ],
          "name": "stdout"
        }
      ]
    },
    {
      "cell_type": "code",
      "metadata": {
        "id": "pGk_uolX8s5K",
        "colab_type": "code",
        "colab": {
          "base_uri": "https://localhost:8080/",
          "height": 68
        },
        "outputId": "14188266-80e5-45fb-c8d8-1032e396fd94"
      },
      "source": [
        "#判斷 BMI 的類別標籤\n",
        "height=int(input('請輸入您的身高(公分):'))\n",
        "weight=int(input('請輸入您的體重(公斤):'))\n",
        "bmi=weight/(height/100)**2\n",
        "\n",
        "if bmi <18.5:\n",
        "  print(\"身高{}公分、體重{}公斤、是Under weight\".format(height,weight))\n",
        "elif 18.5<= bmi <25:\n",
        "  print(\"身高{}公分、體重{}公斤、是Normal weight\".format(height,weight))\n",
        "elif 25<= bmi <30:\n",
        "  print(\"身高{}公分、體重{}公斤、是Over weight\".format(height,weight))\n",
        "else:  \n",
        "  print(\"身高{}公分、體重{}公斤、是Obese\".format(height,weight))\n"
      ],
      "execution_count": 11,
      "outputs": [
        {
          "output_type": "stream",
          "text": [
            "請輸入您的身高(公分):160\n",
            "請輸入您的體重(公斤):50\n",
            "身高160公分、體重50公斤、是Normal weight\n"
          ],
          "name": "stdout"
        }
      ]
    }
  ]
}