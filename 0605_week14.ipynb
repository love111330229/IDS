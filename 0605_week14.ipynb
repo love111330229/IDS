{
  "nbformat": 4,
  "nbformat_minor": 0,
  "metadata": {
    "colab": {
      "name": "0605 week14.ipynb",
      "provenance": [],
      "authorship_tag": "ABX9TyOw00Mip1sh+7x+3BtQQNnU",
      "include_colab_link": true
    },
    "kernelspec": {
      "name": "python3",
      "display_name": "Python 3"
    }
  },
  "cells": [
    {
      "cell_type": "markdown",
      "metadata": {
        "id": "view-in-github",
        "colab_type": "text"
      },
      "source": [
        "<a href=\"https://colab.research.google.com/github/love111330229/IDS/blob/master/0605_week14.ipynb\" target=\"_parent\"><img src=\"https://colab.research.google.com/assets/colab-badge.svg\" alt=\"Open In Colab\"/></a>"
      ]
    },
    {
      "cell_type": "code",
      "metadata": {
        "id": "3EIpQAbcIAcP",
        "colab_type": "code",
        "colab": {
          "base_uri": "https://localhost:8080/",
          "height": 51
        },
        "outputId": "caa80cb5-bda1-43d7-b616-4c16a348b032"
      },
      "source": [
        "pi = 3.14159\n",
        "print(\"My lucky number is %.2f\" % (pi))\n",
        "print(\"My lucky number is {:.2f}\".format(pi))"
      ],
      "execution_count": 6,
      "outputs": [
        {
          "output_type": "stream",
          "text": [
            "My lucky number is 3.14\n",
            "My lucky number is 3.14\n"
          ],
          "name": "stdout"
        }
      ]
    },
    {
      "cell_type": "code",
      "metadata": {
        "id": "AA_9hVrAXJyH",
        "colab_type": "code",
        "colab": {}
      },
      "source": [
        "def print_divisors(x):\n",
        "    for i in range(1, x+1):\n",
        "        if x % i == 0:\n",
        "            print(i)"
      ],
      "execution_count": 0,
      "outputs": []
    },
    {
      "cell_type": "code",
      "metadata": {
        "id": "_BVtbAFNXRrl",
        "colab_type": "code",
        "colab": {
          "base_uri": "https://localhost:8080/",
          "height": 68
        },
        "outputId": "cad96491-0538-468e-d4aa-e373e258236e"
      },
      "source": [
        "print_divisors(9)"
      ],
      "execution_count": 8,
      "outputs": [
        {
          "output_type": "stream",
          "text": [
            "1\n",
            "3\n",
            "9\n"
          ],
          "name": "stdout"
        }
      ]
    },
    {
      "cell_type": "code",
      "metadata": {
        "id": "RW2RUuMuX5gO",
        "colab_type": "code",
        "colab": {}
      },
      "source": [
        "def count_divisors(x):\n",
        "    n_divisors = 0\n",
        "    for i in range(1, x+1):\n",
        "        if x % i == 0:\n",
        "            n_divisors += 1\n",
        "    return n_divisors"
      ],
      "execution_count": 0,
      "outputs": []
    },
    {
      "cell_type": "code",
      "metadata": {
        "id": "ZR7Ar75RYAQv",
        "colab_type": "code",
        "colab": {}
      },
      "source": [
        "def is_prime(x):\n",
        "    return count_divisors(x) == 2"
      ],
      "execution_count": 0,
      "outputs": []
    },
    {
      "cell_type": "code",
      "metadata": {
        "id": "gSsRGLFyYKKG",
        "colab_type": "code",
        "colab": {
          "base_uri": "https://localhost:8080/",
          "height": 170
        },
        "outputId": "727eb195-ea7c-4ce5-e56d-091a33ec4d67"
      },
      "source": [
        "for i in range(1, 10):\n",
        "    print(\"{}是否為質數: {}\".format(i, is_prime(i)))"
      ],
      "execution_count": 13,
      "outputs": [
        {
          "output_type": "stream",
          "text": [
            "1是否為質數: False\n",
            "2是否為質數: True\n",
            "3是否為質數: True\n",
            "4是否為質數: False\n",
            "5是否為質數: True\n",
            "6是否為質數: False\n",
            "7是否為質數: True\n",
            "8是否為質數: False\n",
            "9是否為質數: False\n"
          ],
          "name": "stdout"
        }
      ]
    },
    {
      "cell_type": "code",
      "metadata": {
        "id": "2OS1US_TYX9j",
        "colab_type": "code",
        "colab": {}
      },
      "source": [
        "def find_divisors(x):\n",
        "    divisors = []\n",
        "    for i in range(1, x+1):\n",
        "        if x % i == 0:\n",
        "            divisors.append(i)\n",
        "    return divisors"
      ],
      "execution_count": 0,
      "outputs": []
    },
    {
      "cell_type": "code",
      "metadata": {
        "id": "pWbJqhJ9YZND",
        "colab_type": "code",
        "colab": {
          "base_uri": "https://localhost:8080/",
          "height": 34
        },
        "outputId": "18780ce3-c5e8-405e-928d-76e56b27fb85"
      },
      "source": [
        "find_divisors(2)"
      ],
      "execution_count": 15,
      "outputs": [
        {
          "output_type": "execute_result",
          "data": {
            "text/plain": [
              "[1, 2]"
            ]
          },
          "metadata": {
            "tags": []
          },
          "execution_count": 15
        }
      ]
    }
  ]
}