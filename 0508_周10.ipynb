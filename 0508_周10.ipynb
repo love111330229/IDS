{
  "nbformat": 4,
  "nbformat_minor": 0,
  "metadata": {
    "colab": {
      "name": "0508 周10.ipynb",
      "provenance": [],
      "authorship_tag": "ABX9TyMuqU8atym5pP9FSzjQyJOL",
      "include_colab_link": true
    },
    "kernelspec": {
      "name": "python3",
      "display_name": "Python 3"
    }
  },
  "cells": [
    {
      "cell_type": "markdown",
      "metadata": {
        "id": "view-in-github",
        "colab_type": "text"
      },
      "source": [
        "<a href=\"https://colab.research.google.com/github/love111330229/IDS/blob/master/0508_%E5%91%A810.ipynb\" target=\"_parent\"><img src=\"https://colab.research.google.com/assets/colab-badge.svg\" alt=\"Open In Colab\"/></a>"
      ]
    },
    {
      "cell_type": "code",
      "metadata": {
        "id": "CyPXjRUIAYm-",
        "colab_type": "code",
        "outputId": "b8feed04-1c5a-425b-c6a9-40526b61753e",
        "colab": {
          "base_uri": "https://localhost:8080/",
          "height": 238
        }
      },
      "source": [
        "# variable vs. value: 1-on-1\n",
        "lucky_num_0 = 7\n",
        "lucky_num_1 = 24\n",
        "lucky_num_2 = 5566\n",
        "# variable vs. values: 1-on-multiple\n",
        "lucky_numbers = [7, 24, 5566]\n",
        "# variable vs. value: 1-on-1\n",
        "sat = \"Saturday\"\n",
        "sun = \"Sunday\"\n",
        "# variable vs. values: 1-on-multiple\n",
        "weekend = [\"Saturday\", \"Sunday\"]\n",
        "weekdays = [\"Monday\", \"Tuesday\", \"Wednesday\", \"Thursday\", \"Friday\"]\n",
        "print(type(lucky_numbers))\n",
        "print(type(weekend))\n",
        "print(type(weekdays))\n",
        "print(len(lucky_numbers))\n",
        "print(len(weekend))\n",
        "print(len(weekdays))\n",
        "my_fav_weekday = \"Friday\"\n",
        "print(\"My favorite weekday is {}.\".format(my_fav_weekday))\n",
        "# why not: format(\"My favorite weekday is {}.\", my_fav_weekday) ?\n",
        "print(lucky_numbers)\n",
        "lucky_numbers.append(87)\n",
        "print(lucky_numbers)\n",
        "print(lucky_numbers)\n",
        "lucky_numbers.pop()\n",
        "print(lucky_numbers)\n",
        "my_fav_group = lucky_numbers.pop()\n",
        "print(lucky_numbers)\n",
        "print(my_fav_group)"
      ],
      "execution_count": 1,
      "outputs": [
        {
          "output_type": "stream",
          "text": [
            "<class 'list'>\n",
            "<class 'list'>\n",
            "<class 'list'>\n",
            "3\n",
            "2\n",
            "5\n",
            "My favorite weekday is Friday.\n",
            "[7, 24, 5566]\n",
            "[7, 24, 5566, 87]\n",
            "[7, 24, 5566, 87]\n",
            "[7, 24, 5566]\n",
            "[7, 24]\n",
            "5566\n"
          ],
          "name": "stdout"
        }
      ]
    },
    {
      "cell_type": "code",
      "metadata": {
        "id": "A43SFgNU6QHD",
        "colab_type": "code",
        "colab": {}
      },
      "source": [
        "import requests\n",
        "from bs4 import BeautifulSoup\n",
        "\n",
        "response = requests.get('https://www.imdb.com/title/tt4154796/')\n",
        "soup = BeautifulSoup(response.text)"
      ],
      "execution_count": 0,
      "outputs": []
    },
    {
      "cell_type": "code",
      "metadata": {
        "id": "oDTMmZ4a6iAi",
        "colab_type": "code",
        "colab": {
          "base_uri": "https://localhost:8080/",
          "height": 34
        },
        "outputId": "6b0289b2-5300-44bb-a78d-3b2cd1252c1e"
      },
      "source": [
        "cast_list_a = soup.select(\"#titleCast .loadlate\")\n",
        "print(len(cast_list_a))"
      ],
      "execution_count": 3,
      "outputs": [
        {
          "output_type": "stream",
          "text": [
            "15\n"
          ],
          "name": "stdout"
        }
      ]
    },
    {
      "cell_type": "code",
      "metadata": {
        "id": "-ac5dS2g6k4q",
        "colab_type": "code",
        "colab": {
          "base_uri": "https://localhost:8080/",
          "height": 68
        },
        "outputId": "58b0a699-a4d9-4391-9cd2-b9a08b42d807"
      },
      "source": [
        "cast_list = []\n",
        "print(cast_list)\n",
        "print(type(cast_list))\n",
        "print(len(cast_list))"
      ],
      "execution_count": 4,
      "outputs": [
        {
          "output_type": "stream",
          "text": [
            "[]\n",
            "<class 'list'>\n",
            "0\n"
          ],
          "name": "stdout"
        }
      ]
    },
    {
      "cell_type": "code",
      "metadata": {
        "id": "O6AQAkPa628_",
        "colab_type": "code",
        "colab": {
          "base_uri": "https://localhost:8080/",
          "height": 34
        },
        "outputId": "db7943cc-b885-4f69-d30f-46ce1ba204c5"
      },
      "source": [
        "actor_0 = cast_list_a[0].get('alt').strip()\n",
        "cast_list.append(actor_0)\n",
        "print(cast_list)"
      ],
      "execution_count": 5,
      "outputs": [
        {
          "output_type": "stream",
          "text": [
            "['Robert Downey Jr.']\n"
          ],
          "name": "stdout"
        }
      ]
    },
    {
      "cell_type": "code",
      "metadata": {
        "id": "oNSjZylL64YQ",
        "colab_type": "code",
        "colab": {
          "base_uri": "https://localhost:8080/",
          "height": 34
        },
        "outputId": "216d834a-9ce7-4682-ca4f-a7f012d8a4b0"
      },
      "source": [
        "actor_1 = cast_list_a[1].get('alt').strip()\n",
        "cast_list.append(actor_1)\n",
        "print(cast_list)"
      ],
      "execution_count": 6,
      "outputs": [
        {
          "output_type": "stream",
          "text": [
            "['Robert Downey Jr.', 'Chris Evans']\n"
          ],
          "name": "stdout"
        }
      ]
    },
    {
      "cell_type": "code",
      "metadata": {
        "id": "e0G555A37DqT",
        "colab_type": "code",
        "colab": {
          "base_uri": "https://localhost:8080/",
          "height": 68
        },
        "outputId": "dafb8878-6b4c-4c48-fade-af483b6c790b"
      },
      "source": [
        "cast = []\n",
        "print(cast)\n",
        "print(type(cast))\n",
        "print(len(cast))"
      ],
      "execution_count": 8,
      "outputs": [
        {
          "output_type": "stream",
          "text": [
            "[]\n",
            "<class 'list'>\n",
            "0\n"
          ],
          "name": "stdout"
        }
      ]
    },
    {
      "cell_type": "code",
      "metadata": {
        "id": "CtkDTKdj67Ah",
        "colab_type": "code",
        "colab": {}
      },
      "source": [
        "i = 0\n",
        "while i < len(cast_list_a):\n",
        "    actor = cast_list_a[i].get('alt').strip()\n",
        "    cast.append(actor)\n",
        "    i += 1"
      ],
      "execution_count": 0,
      "outputs": []
    },
    {
      "cell_type": "code",
      "metadata": {
        "id": "dKZgXTF47QFh",
        "colab_type": "code",
        "colab": {
          "base_uri": "https://localhost:8080/",
          "height": 54
        },
        "outputId": "3a5818a5-8300-4a53-e4a0-772cefa16ed9"
      },
      "source": [
        "print(cast)"
      ],
      "execution_count": 12,
      "outputs": [
        {
          "output_type": "stream",
          "text": [
            "['Robert Downey Jr.', 'Chris Evans', 'Mark Ruffalo', 'Chris Hemsworth', 'Scarlett Johansson', 'Jeremy Renner', 'Don Cheadle', 'Paul Rudd', 'Benedict Cumberbatch', 'Chadwick Boseman', 'Brie Larson', 'Tom Holland', 'Karen Gillan', 'Zoe Saldana', 'Evangeline Lilly', 'Robert Downey Jr.', 'Chris Evans', 'Mark Ruffalo', 'Chris Hemsworth', 'Scarlett Johansson', 'Jeremy Renner', 'Don Cheadle', 'Paul Rudd', 'Benedict Cumberbatch', 'Chadwick Boseman', 'Brie Larson', 'Tom Holland', 'Karen Gillan', 'Zoe Saldana', 'Evangeline Lilly', 'Robert Downey Jr.', 'Chris Evans', 'Mark Ruffalo', 'Chris Hemsworth', 'Scarlett Johansson', 'Jeremy Renner', 'Don Cheadle', 'Paul Rudd', 'Benedict Cumberbatch', 'Chadwick Boseman', 'Brie Larson', 'Tom Holland', 'Karen Gillan', 'Zoe Saldana', 'Evangeline Lilly']\n"
          ],
          "name": "stdout"
        }
      ]
    },
    {
      "cell_type": "code",
      "metadata": {
        "id": "Lq-DKYdL7ehJ",
        "colab_type": "code",
        "colab": {
          "base_uri": "https://localhost:8080/",
          "height": 71
        },
        "outputId": "db882aec-a628-4811-aa42-b81185a5cdc8"
      },
      "source": [
        "import pandas as pd\n",
        "\n",
        "time_series_df = pd.read_csv(\"https://raw.githubusercontent.com/CSSEGISandData/COVID-19/master/csse_covid_19_data/csse_covid_19_time_series/time_series_covid19_confirmed_global.csv\")\n",
        "cumulative_confirmed = list(time_series_df[time_series_df['Country/Region'] == 'Taiwan*'].values.ravel()[4:].astype(int))\n",
        "cumulative_confirmed_lag = list(time_series_df[time_series_df['Country/Region'] == 'Taiwan*'].values.ravel()[4:].astype(int))\n",
        "print(cumulative_confirmed)\n",
        "print(cumulative_confirmed_lag)"
      ],
      "execution_count": 13,
      "outputs": [
        {
          "output_type": "stream",
          "text": [
            "[1, 1, 3, 3, 4, 5, 8, 8, 9, 10, 10, 10, 10, 11, 11, 16, 16, 17, 18, 18, 18, 18, 18, 18, 18, 20, 22, 22, 23, 24, 26, 26, 28, 30, 31, 32, 32, 34, 39, 40, 41, 42, 42, 44, 45, 45, 45, 45, 47, 48, 49, 50, 53, 59, 67, 77, 100, 108, 135, 153, 169, 195, 215, 235, 252, 267, 283, 298, 306, 322, 329, 339, 348, 355, 363, 373, 376, 379, 380, 382, 385, 388, 393, 393, 395, 395, 395, 398, 420, 422, 425, 426, 427, 428, 429, 429, 429, 429, 429, 429, 429, 432, 436, 438, 438, 439, 440, 440, 440, 440, 440, 440, 440]\n",
            "[1, 1, 3, 3, 4, 5, 8, 8, 9, 10, 10, 10, 10, 11, 11, 16, 16, 17, 18, 18, 18, 18, 18, 18, 18, 20, 22, 22, 23, 24, 26, 26, 28, 30, 31, 32, 32, 34, 39, 40, 41, 42, 42, 44, 45, 45, 45, 45, 47, 48, 49, 50, 53, 59, 67, 77, 100, 108, 135, 153, 169, 195, 215, 235, 252, 267, 283, 298, 306, 322, 329, 339, 348, 355, 363, 373, 376, 379, 380, 382, 385, 388, 393, 393, 395, 395, 395, 398, 420, 422, 425, 426, 427, 428, 429, 429, 429, 429, 429, 429, 429, 432, 436, 438, 438, 439, 440, 440, 440, 440, 440, 440, 440]\n"
          ],
          "name": "stdout"
        }
      ]
    },
    {
      "cell_type": "code",
      "metadata": {
        "id": "_mB801mj7iaT",
        "colab_type": "code",
        "colab": {
          "base_uri": "https://localhost:8080/",
          "height": 51
        },
        "outputId": "df1b78e7-06e9-4a56-e236-b05c6a015d03"
      },
      "source": [
        "print(len(cumulative_confirmed))\n",
        "print(cumulative_confirmed[-1])"
      ],
      "execution_count": 14,
      "outputs": [
        {
          "output_type": "stream",
          "text": [
            "113\n",
            "440\n"
          ],
          "name": "stdout"
        }
      ]
    },
    {
      "cell_type": "code",
      "metadata": {
        "id": "NBo7lNPY7xHA",
        "colab_type": "code",
        "colab": {
          "base_uri": "https://localhost:8080/",
          "height": 51
        },
        "outputId": "0cf5ab16-0dc9-4b87-dd04-12d09afea9bb"
      },
      "source": [
        "cumulative_confirmed_lag.insert(0, 0)\n",
        "print(len(cumulative_confirmed_lag))\n",
        "print(cumulative_confirmed_lag[0])"
      ],
      "execution_count": 15,
      "outputs": [
        {
          "output_type": "stream",
          "text": [
            "114\n",
            "0\n"
          ],
          "name": "stdout"
        }
      ]
    },
    {
      "cell_type": "code",
      "metadata": {
        "id": "v4uLkPXv77oL",
        "colab_type": "code",
        "colab": {
          "base_uri": "https://localhost:8080/",
          "height": 51
        },
        "outputId": "f40fdf1c-1592-415b-e3f0-c0412882928a"
      },
      "source": [
        "cumulative_confirmed_lag.pop()\n",
        "print(len(cumulative_confirmed_lag))\n",
        "print(cumulative_confirmed_lag[-1])"
      ],
      "execution_count": 16,
      "outputs": [
        {
          "output_type": "stream",
          "text": [
            "113\n",
            "440\n"
          ],
          "name": "stdout"
        }
      ]
    },
    {
      "cell_type": "code",
      "metadata": {
        "id": "PQOrpVMD79po",
        "colab_type": "code",
        "colab": {
          "base_uri": "https://localhost:8080/",
          "height": 71
        },
        "outputId": "dd9c36fa-667c-4cb5-a281-0c04a644d04f"
      },
      "source": [
        "print(cumulative_confirmed)\n",
        "print(cumulative_confirmed_lag)"
      ],
      "execution_count": 17,
      "outputs": [
        {
          "output_type": "stream",
          "text": [
            "[1, 1, 3, 3, 4, 5, 8, 8, 9, 10, 10, 10, 10, 11, 11, 16, 16, 17, 18, 18, 18, 18, 18, 18, 18, 20, 22, 22, 23, 24, 26, 26, 28, 30, 31, 32, 32, 34, 39, 40, 41, 42, 42, 44, 45, 45, 45, 45, 47, 48, 49, 50, 53, 59, 67, 77, 100, 108, 135, 153, 169, 195, 215, 235, 252, 267, 283, 298, 306, 322, 329, 339, 348, 355, 363, 373, 376, 379, 380, 382, 385, 388, 393, 393, 395, 395, 395, 398, 420, 422, 425, 426, 427, 428, 429, 429, 429, 429, 429, 429, 429, 432, 436, 438, 438, 439, 440, 440, 440, 440, 440, 440, 440]\n",
            "[0, 1, 1, 3, 3, 4, 5, 8, 8, 9, 10, 10, 10, 10, 11, 11, 16, 16, 17, 18, 18, 18, 18, 18, 18, 18, 20, 22, 22, 23, 24, 26, 26, 28, 30, 31, 32, 32, 34, 39, 40, 41, 42, 42, 44, 45, 45, 45, 45, 47, 48, 49, 50, 53, 59, 67, 77, 100, 108, 135, 153, 169, 195, 215, 235, 252, 267, 283, 298, 306, 322, 329, 339, 348, 355, 363, 373, 376, 379, 380, 382, 385, 388, 393, 393, 395, 395, 395, 398, 420, 422, 425, 426, 427, 428, 429, 429, 429, 429, 429, 429, 429, 432, 436, 438, 438, 439, 440, 440, 440, 440, 440, 440]\n"
          ],
          "name": "stdout"
        }
      ]
    },
    {
      "cell_type": "code",
      "metadata": {
        "id": "DK4Tgt5C8DE3",
        "colab_type": "code",
        "colab": {}
      },
      "source": [
        "daily_increase = []"
      ],
      "execution_count": 0,
      "outputs": []
    },
    {
      "cell_type": "code",
      "metadata": {
        "id": "BHBA9PA68Gf3",
        "colab_type": "code",
        "colab": {
          "base_uri": "https://localhost:8080/",
          "height": 1000
        },
        "outputId": "6c7f2834-aef2-4da6-b17f-0061872b5818"
      },
      "source": [
        "daily_increase = []\n",
        "i = 0\n",
        "while i < 107:\n",
        "    dayn_increase = cumulative_confirmed[i] - cumulative_confirmed_lag[i]\n",
        "    print(\"Day {}: 每日新增確診人數 {}\".format(i, dayn_increase))\n",
        "    daily_increase.append(dayn_increase)\n",
        "    i += 1"
      ],
      "execution_count": 18,
      "outputs": [
        {
          "output_type": "stream",
          "text": [
            "Day 0: 每日新增確診人數 1\n",
            "Day 1: 每日新增確診人數 0\n",
            "Day 2: 每日新增確診人數 2\n",
            "Day 3: 每日新增確診人數 0\n",
            "Day 4: 每日新增確診人數 1\n",
            "Day 5: 每日新增確診人數 1\n",
            "Day 6: 每日新增確診人數 3\n",
            "Day 7: 每日新增確診人數 0\n",
            "Day 8: 每日新增確診人數 1\n",
            "Day 9: 每日新增確診人數 1\n",
            "Day 10: 每日新增確診人數 0\n",
            "Day 11: 每日新增確診人數 0\n",
            "Day 12: 每日新增確診人數 0\n",
            "Day 13: 每日新增確診人數 1\n",
            "Day 14: 每日新增確診人數 0\n",
            "Day 15: 每日新增確診人數 5\n",
            "Day 16: 每日新增確診人數 0\n",
            "Day 17: 每日新增確診人數 1\n",
            "Day 18: 每日新增確診人數 1\n",
            "Day 19: 每日新增確診人數 0\n",
            "Day 20: 每日新增確診人數 0\n",
            "Day 21: 每日新增確診人數 0\n",
            "Day 22: 每日新增確診人數 0\n",
            "Day 23: 每日新增確診人數 0\n",
            "Day 24: 每日新增確診人數 0\n",
            "Day 25: 每日新增確診人數 2\n",
            "Day 26: 每日新增確診人數 2\n",
            "Day 27: 每日新增確診人數 0\n",
            "Day 28: 每日新增確診人數 1\n",
            "Day 29: 每日新增確診人數 1\n",
            "Day 30: 每日新增確診人數 2\n",
            "Day 31: 每日新增確診人數 0\n",
            "Day 32: 每日新增確診人數 2\n",
            "Day 33: 每日新增確診人數 2\n",
            "Day 34: 每日新增確診人數 1\n",
            "Day 35: 每日新增確診人數 1\n",
            "Day 36: 每日新增確診人數 0\n",
            "Day 37: 每日新增確診人數 2\n",
            "Day 38: 每日新增確診人數 5\n",
            "Day 39: 每日新增確診人數 1\n",
            "Day 40: 每日新增確診人數 1\n",
            "Day 41: 每日新增確診人數 1\n",
            "Day 42: 每日新增確診人數 0\n",
            "Day 43: 每日新增確診人數 2\n",
            "Day 44: 每日新增確診人數 1\n",
            "Day 45: 每日新增確診人數 0\n",
            "Day 46: 每日新增確診人數 0\n",
            "Day 47: 每日新增確診人數 0\n",
            "Day 48: 每日新增確診人數 2\n",
            "Day 49: 每日新增確診人數 1\n",
            "Day 50: 每日新增確診人數 1\n",
            "Day 51: 每日新增確診人數 1\n",
            "Day 52: 每日新增確診人數 3\n",
            "Day 53: 每日新增確診人數 6\n",
            "Day 54: 每日新增確診人數 8\n",
            "Day 55: 每日新增確診人數 10\n",
            "Day 56: 每日新增確診人數 23\n",
            "Day 57: 每日新增確診人數 8\n",
            "Day 58: 每日新增確診人數 27\n",
            "Day 59: 每日新增確診人數 18\n",
            "Day 60: 每日新增確診人數 16\n",
            "Day 61: 每日新增確診人數 26\n",
            "Day 62: 每日新增確診人數 20\n",
            "Day 63: 每日新增確診人數 20\n",
            "Day 64: 每日新增確診人數 17\n",
            "Day 65: 每日新增確診人數 15\n",
            "Day 66: 每日新增確診人數 16\n",
            "Day 67: 每日新增確診人數 15\n",
            "Day 68: 每日新增確診人數 8\n",
            "Day 69: 每日新增確診人數 16\n",
            "Day 70: 每日新增確診人數 7\n",
            "Day 71: 每日新增確診人數 10\n",
            "Day 72: 每日新增確診人數 9\n",
            "Day 73: 每日新增確診人數 7\n",
            "Day 74: 每日新增確診人數 8\n",
            "Day 75: 每日新增確診人數 10\n",
            "Day 76: 每日新增確診人數 3\n",
            "Day 77: 每日新增確診人數 3\n",
            "Day 78: 每日新增確診人數 1\n",
            "Day 79: 每日新增確診人數 2\n",
            "Day 80: 每日新增確診人數 3\n",
            "Day 81: 每日新增確診人數 3\n",
            "Day 82: 每日新增確診人數 5\n",
            "Day 83: 每日新增確診人數 0\n",
            "Day 84: 每日新增確診人數 2\n",
            "Day 85: 每日新增確診人數 0\n",
            "Day 86: 每日新增確診人數 0\n",
            "Day 87: 每日新增確診人數 3\n",
            "Day 88: 每日新增確診人數 22\n",
            "Day 89: 每日新增確診人數 2\n",
            "Day 90: 每日新增確診人數 3\n",
            "Day 91: 每日新增確診人數 1\n",
            "Day 92: 每日新增確診人數 1\n",
            "Day 93: 每日新增確診人數 1\n",
            "Day 94: 每日新增確診人數 1\n",
            "Day 95: 每日新增確診人數 0\n",
            "Day 96: 每日新增確診人數 0\n",
            "Day 97: 每日新增確診人數 0\n",
            "Day 98: 每日新增確診人數 0\n",
            "Day 99: 每日新增確診人數 0\n",
            "Day 100: 每日新增確診人數 0\n",
            "Day 101: 每日新增確診人數 3\n",
            "Day 102: 每日新增確診人數 4\n",
            "Day 103: 每日新增確診人數 2\n",
            "Day 104: 每日新增確診人數 0\n",
            "Day 105: 每日新增確診人數 1\n",
            "Day 106: 每日新增確診人數 1\n"
          ],
          "name": "stdout"
        }
      ]
    }
  ]
}